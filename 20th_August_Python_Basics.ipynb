{
 "cells": [
  {
   "cell_type": "code",
   "execution_count": 1,
   "id": "b412647c-8281-44af-80d3-d8180865087f",
   "metadata": {},
   "outputs": [
    {
     "name": "stdin",
     "output_type": "stream",
     "text": [
      "Enter a string:  nidhi\n"
     ]
    },
    {
     "name": "stdout",
     "output_type": "stream",
     "text": [
      "Reversed string: ihdin\n"
     ]
    }
   ],
   "source": [
    "def reverse_string(input_string):\n",
    " \n",
    "    reversed_string = input_string[::-1]\n",
    "    return reversed_string\n",
    "\n",
    "# Get user input\n",
    "input_string = input(\"Enter a string: \")\n",
    "\n",
    "# Call the function to reverse the string\n",
    "reversed_result = reverse_string(input_string)\n",
    "\n",
    "# Print the reversed string\n",
    "print(\"Reversed string:\", reversed_result)\n"
   ]
  },
  {
   "cell_type": "code",
   "execution_count": 8,
   "id": "1d7e1757-afc2-4bd4-a1cb-0408fa511898",
   "metadata": {},
   "outputs": [
    {
     "name": "stdin",
     "output_type": "stream",
     "text": [
      "Enter a string:  racecar\n"
     ]
    },
    {
     "name": "stdout",
     "output_type": "stream",
     "text": [
      "the string is palindrome.\n"
     ]
    }
   ],
   "source": [
    "def is_palindrome(input_string):\n",
    "    \n",
    "    cleaned_string = ''.join(input_string.split()).lower()\n",
    "    \n",
    "    return cleaned_string == cleaned_string[::-1]\n",
    "\n",
    "input_str = input(\"Enter a string: \")\n",
    "\n",
    "if is_palindrome(input_str):\n",
    "    print(\"the string is palindrome.\")\n",
    "    \n",
    "else:\n",
    "    print(\"the string is not a palindrome.\")"
   ]
  },
  {
   "cell_type": "code",
   "execution_count": 12,
   "id": "5d904aa4-68f1-40ba-aa5b-773716c70eff",
   "metadata": {},
   "outputs": [
    {
     "name": "stdin",
     "output_type": "stream",
     "text": [
      "Enter a string:  niki\n"
     ]
    },
    {
     "name": "stdout",
     "output_type": "stream",
     "text": [
      "Uppercase version: NIKI\n"
     ]
    }
   ],
   "source": [
    "# Get user input\n",
    "user_input = input(\"Enter a string: \")\n",
    "\n",
    "# Convert the string to uppercase\n",
    "uppercase_string = user_input.upper()\n",
    "\n",
    "# Print the uppercase string\n",
    "print(\"Uppercase version:\", uppercase_string)\n",
    "\n",
    "\n"
   ]
  },
  {
   "cell_type": "code",
   "execution_count": 14,
   "id": "802a63e0-2c7f-40e2-bf84-932671f6f331",
   "metadata": {},
   "outputs": [
    {
     "name": "stdin",
     "output_type": "stream",
     "text": [
      "Enter a string:  NIKI\n"
     ]
    },
    {
     "name": "stdout",
     "output_type": "stream",
     "text": [
      "lowercase version: niki\n"
     ]
    }
   ],
   "source": [
    "# Get user input\n",
    "user_input = input(\"Enter a string: \")\n",
    "\n",
    "# Convert the string to uppercase\n",
    "lowercase_string = user_input.lower()\n",
    "print(\"lowercase version:\", lowercase_string)"
   ]
  },
  {
   "cell_type": "code",
   "execution_count": 11,
   "id": "c4b51c99-4c15-428f-a27c-b742f8a455ac",
   "metadata": {},
   "outputs": [
    {
     "name": "stdin",
     "output_type": "stream",
     "text": [
      "enter the string:  nikita\n"
     ]
    },
    {
     "name": "stdout",
     "output_type": "stream",
     "text": [
      "number of the vowels in the string: 3\n"
     ]
    }
   ],
   "source": [
    "def count_vowels(input_str):\n",
    "    \n",
    "    vowels = set(\"aeiouAEIOU\")\n",
    "    \n",
    "    count = 0\n",
    "    \n",
    "    for char in input_string:\n",
    "        if char in vowels:\n",
    "            count +=1\n",
    "    return count\n",
    "input_string = input(\"enter the string: \")\n",
    "vowels_count = count_vowels(input_string)\n",
    "print(\"number of the vowels in the string:\" , vowels_count)"
   ]
  },
  {
   "cell_type": "code",
   "execution_count": 22,
   "id": "6fc6d7e8-1e74-4fc2-a7c6-8d83a29cbf8b",
   "metadata": {},
   "outputs": [
    {
     "name": "stdin",
     "output_type": "stream",
     "text": [
      "enter the string:  nikitayadav\n"
     ]
    },
    {
     "name": "stdout",
     "output_type": "stream",
     "text": [
      "number of the consonants in the string: 6\n"
     ]
    }
   ],
   "source": [
    "def count_consonants(input_str):\n",
    "    \n",
    "    vowels = set(\"aeiouAEIOU\")\n",
    "    \n",
    "    count_consonants = 0\n",
    "    \n",
    "    for char in input_string:\n",
    "        if char not in vowels:\n",
    "            count_consonants +=1\n",
    "    return count_consonants\n",
    "input_string = input(\"enter the string: \")\n",
    "consonants_count = count_consonants(input_string)\n",
    "print(\"number of the consonants in the string:\" , consonants_count)\n"
   ]
  },
  {
   "cell_type": "code",
   "execution_count": 24,
   "id": "b00b9b7c-5197-471b-a781-334b5a785eae",
   "metadata": {},
   "outputs": [
    {
     "name": "stdout",
     "output_type": "stream",
     "text": [
      "String whitespaces removed: HelloWorld\n"
     ]
    }
   ],
   "source": [
    "def remove_whitespace(input_str):\n",
    "    result_str = input_str.replace(\" \", \"\").replace(\"\\t\", \"\").replace(\"\\n\", \"\").replace(\"\\r\", \"\")\n",
    "    return result_str\n",
    "input_string = \"Hello   \\tWorld\\n\"\n",
    "result = remove_whitespace(input_string)\n",
    "print(\"String whitespaces removed:\", result)\n"
   ]
  },
  {
   "cell_type": "code",
   "execution_count": 4,
   "id": "dbbc78d4-4090-4f7c-a711-83e5758f932b",
   "metadata": {},
   "outputs": [
    {
     "name": "stdin",
     "output_type": "stream",
     "text": [
      "enter the str: niki\n"
     ]
    },
    {
     "name": "stdout",
     "output_type": "stream",
     "text": [
      "length 4\n"
     ]
    }
   ],
   "source": [
    "def string_length(input_str):\n",
    "    length = 0\n",
    "    for char in input_str:\n",
    "        length +=1\n",
    "    return length\n",
    "input_str = input(\"enter the str:\")\n",
    "length = string_length(input_str)\n",
    "print(\"length\",length)"
   ]
  },
  {
   "cell_type": "code",
   "execution_count": 10,
   "id": "6f64ba5c-521c-4e26-bb51-d2a9cb2cc2ff",
   "metadata": {},
   "outputs": [
    {
     "name": "stdout",
     "output_type": "stream",
     "text": [
      "The string contains the word 'Hello'.\n"
     ]
    }
   ],
   "source": [
    "def contains_word(input_string, target_word):\n",
    "    return target_word in input_string\n",
    "input_string = \"Hello, World! \"\n",
    "target_word = \"Hello\"\n",
    "if contains_word(input_string, target_word):\n",
    "    print(f\"The string contains the word '{target_word}'.\")\n",
    "else:\n",
    "    print(f\"The string does not contain the word '{target_word}'.\")\n"
   ]
  },
  {
   "cell_type": "code",
   "execution_count": 11,
   "id": "da0e057c-0203-499f-99dd-afd9c5a319ea",
   "metadata": {},
   "outputs": [
    {
     "name": "stdout",
     "output_type": "stream",
     "text": [
      "Original string: Hello, World! This is a test.\n",
      "Modified string: Hello, World! This is a example.\n"
     ]
    }
   ],
   "source": [
    "def replace_word(input_string, old_word, new_word):\n",
    "    result_string = input_string.replace(old_word, new_word)\n",
    "    return result_string\n",
    "input_string = \"Hello, World! This is a test.\"\n",
    "old_word = \"test\"\n",
    "new_word = \"example\"\n",
    "result = replace_word(input_string, old_word, new_word)\n",
    "print(\"Original string:\", input_string)\n",
    "print(\"Modified string:\", result)\n"
   ]
  },
  {
   "cell_type": "code",
   "execution_count": 12,
   "id": "423bd90e-26dd-465d-9b23-2f8fe9fecb8b",
   "metadata": {},
   "outputs": [
    {
     "name": "stdout",
     "output_type": "stream",
     "text": [
      "The word 'example' appears 0 times in the string.\n"
     ]
    }
   ],
   "source": [
    "def count_word_occurrences(input_string, target_word):\n",
    "    words = input_string.split()\n",
    "    count = 0\n",
    "    for word in words:\n",
    "        if word == target_word:\n",
    "            count += 1\n",
    "    \n",
    "    return count\n",
    "input_string = \"This is an example. This is another example. This is a third example.\"\n",
    "target_word = \"example\"\n",
    "occurrence_count = count_word_occurrences(input_string, target_word)\n",
    "print(f\"The word '{target_word}' appears {occurrence_count} times in the string.\")\n"
   ]
  },
  {
   "cell_type": "code",
   "execution_count": 21,
   "id": "f86ebb7f-1b6c-48b0-8353-5584d384ed73",
   "metadata": {},
   "outputs": [
    {
     "name": "stdout",
     "output_type": "stream",
     "text": [
      "The first occurrence of 'example' starts at index 11.\n"
     ]
    }
   ],
   "source": [
    "def find_first_occurrence(input_string, target_word):\n",
    "    index = input_string.find(target_word)\n",
    "    return index\n",
    "input_string = \"This is an example. This is another example. This is a third example.\"\n",
    "target_word = \"example\"\n",
    "index = find_first_occurrence(input_string, target_word)\n",
    "\n",
    "if index != -1:\n",
    "    print(f\"The first occurrence of '{target_word}' starts at index {index}.\")\n",
    "else:\n",
    "    print(f\"'{target_word}' not found in the string.\")\n"
   ]
  },
  {
   "cell_type": "code",
   "execution_count": 23,
   "id": "795cea20-468c-4eff-b824-519b3f058d63",
   "metadata": {},
   "outputs": [
    {
     "name": "stdout",
     "output_type": "stream",
     "text": [
      "The last occurrence of 'example' starts at index 61.\n"
     ]
    }
   ],
   "source": [
    "def find_last_occurrence(input_string, target_word):\n",
    "    index = input_string.rfind(target_word)\n",
    "    return index\n",
    "\n",
    "# Example usage:\n",
    "input_string = \"This is an example. This is another example. This is a third example.\"\n",
    "target_word = \"example\"\n",
    "index = find_last_occurrence(input_string, target_word)\n",
    "\n",
    "if index != -1:\n",
    "    print(f\"The last occurrence of '{target_word}' starts at index {index}.\")\n",
    "else:\n",
    "    print(f\"'{target_word}' not found in the string.\")\n"
   ]
  },
  {
   "cell_type": "code",
   "execution_count": 5,
   "id": "847676df-3143-494a-ad29-1bbf639a4e9d",
   "metadata": {},
   "outputs": [
    {
     "name": "stdin",
     "output_type": "stream",
     "text": [
      "enter the str: niki is good girl\n"
     ]
    },
    {
     "data": {
      "text/plain": [
       "['niki', 'is', 'good', 'girl']"
      ]
     },
     "execution_count": 5,
     "metadata": {},
     "output_type": "execute_result"
    }
   ],
   "source": [
    "def split_words(input_str):\n",
    "    words = input_str.split()\n",
    "    \n",
    "    return words\n",
    "input_str = input(\"enter the str:\")\n",
    "split_words(input_str)  "
   ]
  },
  {
   "cell_type": "code",
   "execution_count": 20,
   "id": "805a715a-4266-4176-b169-d6c190d1d673",
   "metadata": {},
   "outputs": [
    {
     "name": "stdin",
     "output_type": "stream",
     "text": [
      "enter the word: niki is girl \n"
     ]
    },
    {
     "data": {
      "text/plain": [
       "'n i k i   i s   g i r l  '"
      ]
     },
     "execution_count": 20,
     "metadata": {},
     "output_type": "execute_result"
    }
   ],
   "source": [
    "def join_words():\n",
    "    y = \" \".join(input_str)\n",
    "    \n",
    "    return y\n",
    "input_str = input(\"enter the word:\")\n",
    "join_words()  "
   ]
  },
  {
   "cell_type": "code",
   "execution_count": 22,
   "id": "b873e77b-1b7e-4ec3-8200-b73fd4b2631b",
   "metadata": {},
   "outputs": [
    {
     "name": "stdout",
     "output_type": "stream",
     "text": [
      "Result using str.replace(): This_is_a_sample_string_with_spaces.\n"
     ]
    }
   ],
   "source": [
    "def spaces_to_underscores(input_string):\n",
    "    # Replace spaces with underscores\n",
    "    result_string = input_string.replace(\" \", \"_\")\n",
    "    return result_string\n",
    "\n",
    "# Example usage:\n",
    "input_string = \"This is a sample string with spaces.\"\n",
    "result = spaces_to_underscores(input_string)\n",
    "print(\"Result using str.replace():\", result)\n"
   ]
  },
  {
   "cell_type": "code",
   "execution_count": 1,
   "id": "5fb8a802-98ec-4231-add7-b101a2681aee",
   "metadata": {},
   "outputs": [
    {
     "name": "stdout",
     "output_type": "stream",
     "text": [
      "The text starts with the prefix.\n"
     ]
    }
   ],
   "source": [
    "def starts_with(text, prefix):\n",
    "    # Step 1: Use the startswith() method to check if the text starts with the specified prefix.\n",
    "    is_start = text.startswith(prefix)\n",
    "\n",
    "    # Step 2: Return the result of the check.\n",
    "    return is_start\n",
    "\n",
    "# Example usage\n",
    "text = \"Hello, world!\"\n",
    "prefix = \"Hello\"\n",
    "result = starts_with(text, prefix)\n",
    "if result:\n",
    "    print(\"The text starts with the prefix.\")\n",
    "else:\n",
    "    print(\"The text does not start with the prefix.\")"
   ]
  },
  {
   "cell_type": "code",
   "execution_count": 2,
   "id": "fb19b369-40eb-46f0-ba91-17ab54e49d91",
   "metadata": {},
   "outputs": [
    {
     "name": "stdout",
     "output_type": "stream",
     "text": [
      "The text ends with the suffix.\n"
     ]
    }
   ],
   "source": [
    "def ends_with(text, suffix):\n",
    "  \n",
    "    is_end = text.endswith(suffix)\n",
    "\n",
    "    return is_end\n",
    "\n",
    "# Example usage\n",
    "text = \"Hello, world!\"\n",
    "suffix = \"world!\"\n",
    "result = ends_with(text, suffix)\n",
    "if result:\n",
    "    print(\"The text ends with the suffix.\")\n",
    "else:\n",
    "    print(\"The text does not end with the suffix.\")"
   ]
  },
  {
   "cell_type": "code",
   "execution_count": 3,
   "id": "b76cd5ab-526c-4cf7-8692-3e730736ac31",
   "metadata": {},
   "outputs": [
    {
     "name": "stdout",
     "output_type": "stream",
     "text": [
      "Title case: Hello World\n"
     ]
    }
   ],
   "source": [
    "def convert_to_title_case(text):\n",
    " \n",
    "    title_case_text = text.title()\n",
    "\n",
    "\n",
    "    return title_case_text\n",
    "text = \"hello world\"\n",
    "title_case_result = convert_to_title_case(text)\n",
    "print(\"Title case:\", title_case_result)"
   ]
  },
  {
   "cell_type": "code",
   "execution_count": 4,
   "id": "58bdbb6f-fe00-4730-ac30-123ddce48a96",
   "metadata": {},
   "outputs": [
    {
     "name": "stdout",
     "output_type": "stream",
     "text": [
      "Longest word: sentence\n"
     ]
    }
   ],
   "source": [
    "def find_longest_word(text):\n",
    "   \n",
    "    words = text.split()\n",
    "\n",
    "  \n",
    "    longest_word = \"\"\n",
    "    max_length = 0\n",
    "\n",
    "    for word in words:\n",
    " \n",
    "        if len(word) > max_length:\n",
    "            max_length = len(word)\n",
    "            longest_word = word\n",
    "\n",
    "    return longest_word\n",
    "\n",
    "text = \"This is an example sentence with some long words.\"\n",
    "longest_word = find_longest_word(text)\n",
    "print(\"Longest word:\", longest_word)"
   ]
  },
  {
   "cell_type": "code",
   "execution_count": 5,
   "id": "2fa34f6e-f91c-43d4-9b6d-79e33adbbc50",
   "metadata": {},
   "outputs": [
    {
     "name": "stdout",
     "output_type": "stream",
     "text": [
      "Shortest word: is\n"
     ]
    }
   ],
   "source": [
    "def find_shortest_word(text):\n",
    "  \n",
    "    words = text.split()\n",
    "\n",
    "    shortest_word = None\n",
    "    min_length = float('inf')\n",
    "\n",
    "    for word in words:\n",
    "\n",
    "        if len(word) < min_length:\n",
    "            min_length = len(word)\n",
    "            shortest_word = word\n",
    "\n",
    "    return shortest_word\n",
    "\n",
    "text = \"This is an example sentence with some short words.\"\n",
    "shortest_word = find_shortest_word(text)\n",
    "print(\"Shortest word:\", shortest_word)"
   ]
  },
  {
   "cell_type": "code",
   "execution_count": 6,
   "id": "837bb65d-b0a2-4c02-a1c6-1e2e985f514f",
   "metadata": {},
   "outputs": [
    {
     "name": "stdout",
     "output_type": "stream",
     "text": [
      "The string is alphanumeric.\n"
     ]
    }
   ],
   "source": [
    "def is_alphanumeric(text):\n",
    "    return text.isalnum()\n",
    "\n",
    "# Example usage\n",
    "text = \"Hello123\"\n",
    "result = is_alphanumeric(text)\n",
    "if result:\n",
    "    print(\"The string is alphanumeric.\")\n",
    "else:\n",
    "    print(\"The string is not alphanumeric.\")"
   ]
  },
  {
   "cell_type": "code",
   "execution_count": 2,
   "id": "7b86fd5d-be0c-4858-8d70-f29b9ec3ecc1",
   "metadata": {},
   "outputs": [
    {
     "name": "stdout",
     "output_type": "stream",
     "text": [
      "Extracted digits: 123456\n"
     ]
    }
   ],
   "source": [
    "def extract_digits(text):\n",
    "\n",
    "    digits = \"\"\n",
    "\n",
    "    for char in text:\n",
    "\n",
    "        if char.isdigit():\n",
    "\n",
    "            digits += char\n",
    "    return digits\n",
    "\n",
    "# Example usage\n",
    "text = \"Hello123456\"\n",
    "extracted_digits = extract_digits(text)\n",
    "print(\"Extracted digits:\", extracted_digits)"
   ]
  },
  {
   "cell_type": "code",
   "execution_count": 3,
   "id": "f37aa6e6-9d72-4a8a-a848-07b4268ebad7",
   "metadata": {},
   "outputs": [
    {
     "name": "stdout",
     "output_type": "stream",
     "text": [
      "Extracted digits: Hello\n"
     ]
    }
   ],
   "source": [
    "def extract_alpha(text):\n",
    "\n",
    "    alpha = \"\"\n",
    "\n",
    "    for char in text:\n",
    "\n",
    "        if char.isalpha():\n",
    "\n",
    "            alpha += char\n",
    "    return alpha\n",
    "\n",
    "# Example usage\n",
    "text = \"Hello123456\"\n",
    "extract_alpha = extract_alpha(text)\n",
    "print(\"Extracted digits:\", extract_alpha)"
   ]
  },
  {
   "cell_type": "code",
   "execution_count": 4,
   "id": "ffe14488-ba6d-4859-a671-c06851c6378e",
   "metadata": {},
   "outputs": [
    {
     "name": "stdout",
     "output_type": "stream",
     "text": [
      "6\n"
     ]
    }
   ],
   "source": [
    "def count_uppercase(input_string):\n",
    "    uppercase_count = sum(1 for char in input_string if char.isupper())\n",
    "    return uppercase_count\n",
    "\n",
    "input_string = \"HelloWORLD\"\n",
    "result = count_uppercase(input_string)\n",
    "print(result)"
   ]
  },
  {
   "cell_type": "code",
   "execution_count": 5,
   "id": "f40d6035-0da6-4444-8e45-32f67815f765",
   "metadata": {},
   "outputs": [
    {
     "name": "stdout",
     "output_type": "stream",
     "text": [
      "4\n"
     ]
    }
   ],
   "source": [
    "def count_lowercase(input_string):\n",
    "    lowercase_count = sum(1 for char in input_string if char.islower())\n",
    "    return lowercase_count\n",
    "\n",
    "input_string = \"HelloWORLD\"\n",
    "result = count_lowercase(input_string)\n",
    "print(result)"
   ]
  },
  {
   "cell_type": "code",
   "execution_count": 6,
   "id": "8440b760-0b93-4958-859e-b3a242f838b3",
   "metadata": {},
   "outputs": [
    {
     "name": "stdout",
     "output_type": "stream",
     "text": [
      "hELLOworld\n"
     ]
    }
   ],
   "source": [
    "def swap_case(input_string):\n",
    "    swapped_string = input_string.swapcase()\n",
    "    return swapped_string\n",
    "\n",
    "# Example input string\n",
    "input_string = \"HelloWORLD\"\n",
    "result = swap_case(input_string)\n",
    "print(result)"
   ]
  },
  {
   "cell_type": "code",
   "execution_count": 8,
   "id": "d380dff1-8958-4a8e-891f-4337492482f5",
   "metadata": {},
   "outputs": [
    {
     "name": "stdout",
     "output_type": "stream",
     "text": [
      "Hello , to the world of programming.\n"
     ]
    }
   ],
   "source": [
    "def remove_word(input_string, word_to_remove):\n",
    "    words = input_string.split()  \n",
    "    filtered_words = [word for word in words if word != word_to_remove]  \n",
    "    modified_string = ' '.join(filtered_words)  \n",
    "    return modified_string\n",
    "input_string = \"Hello , welcome to the world of programming.\"\n",
    "word_to_remove = \"welcome\"\n",
    "result = remove_word(input_string, word_to_remove)\n",
    "print(result)"
   ]
  },
  {
   "cell_type": "code",
   "execution_count": 10,
   "id": "9bc098d3-096b-4198-a504-ec0ddd3902a7",
   "metadata": {},
   "outputs": [
    {
     "name": "stdout",
     "output_type": "stream",
     "text": [
      "True\n",
      "False\n"
     ]
    }
   ],
   "source": [
    "import re \n",
    "\n",
    "def is_valid_email(email):\n",
    "    pattern = r'^[\\w\\.-]+@[\\w\\.-]+\\.\\w+$' \n",
    "    if re.match(pattern, email):\n",
    "        return True\n",
    "    else:\n",
    "        return False\n",
    "email1 = \"example@email.com\"\n",
    "email2 = \"invalid-email\"\n",
    "result1 = is_valid_email(email1)\n",
    "result2 = is_valid_email(email2)\n",
    "print(result1)\n",
    "print(result2)"
   ]
  },
  {
   "cell_type": "code",
   "execution_count": 11,
   "id": "e13c9914-b308-4d0a-9c7e-8da57cccedb5",
   "metadata": {},
   "outputs": [
    {
     "name": "stdout",
     "output_type": "stream",
     "text": [
      "example\n"
     ]
    }
   ],
   "source": [
    "def extract_username(email):\n",
    "    username = email.split('@')[0] \n",
    "    return username\n",
    "email = \"example@email.com\"\n",
    "result = extract_username(email)\n",
    "print(result)"
   ]
  },
  {
   "cell_type": "code",
   "execution_count": 12,
   "id": "58b0f454-0911-4180-8e90-ce3dfbac26b1",
   "metadata": {},
   "outputs": [
    {
     "name": "stdout",
     "output_type": "stream",
     "text": [
      "email.com\n"
     ]
    }
   ],
   "source": [
    "def extract_domain(email):\n",
    "    domain = email.split('@')[1] \n",
    "    return domain\n",
    "email = \"example@email.com\"\n",
    "result = extract_domain(email)\n",
    "print(result)"
   ]
  },
  {
   "cell_type": "code",
   "execution_count": 13,
   "id": "39562b69-1aac-4ede-ba1e-63af8164600a",
   "metadata": {},
   "outputs": [
    {
     "name": "stdout",
     "output_type": "stream",
     "text": [
      "Hello world!\n"
     ]
    }
   ],
   "source": [
    "def replace_multiple_spaces(input_string):\n",
    "    cleaned_string = ' '.join(input_string.split())  \n",
    "    return cleaned_string\n",
    "\n",
    "input_string = \"Hello     world!   \"\n",
    "result = replace_multiple_spaces(input_string)\n",
    "print(result)"
   ]
  },
  {
   "cell_type": "code",
   "execution_count": 14,
   "id": "df262c66-c87f-4623-8595-dbd8ee8cd421",
   "metadata": {},
   "outputs": [
    {
     "name": "stdout",
     "output_type": "stream",
     "text": [
      "True\n",
      "False\n"
     ]
    }
   ],
   "source": [
    "from urllib.parse import urlparse\n",
    "\n",
    "def is_valid_url(url):\n",
    "    try:\n",
    "        result = urlparse(url)\n",
    "        return all([result.scheme, result.netloc])  \n",
    "    except ValueError:\n",
    "        return False\n",
    "\n",
    "\n",
    "url1 = \"https://www.example.com\"\n",
    "url2 = \"invalid-url\"\n",
    "result1 = is_valid_url(url1)\n",
    "result2 = is_valid_url(url2)\n",
    "print(result1)  \n",
    "print(result2)  "
   ]
  },
  {
   "cell_type": "code",
   "execution_count": 15,
   "id": "7f2bb617-7e3e-44bd-b762-fe7b4392278d",
   "metadata": {},
   "outputs": [
    {
     "name": "stdout",
     "output_type": "stream",
     "text": [
      "Protocol 1: https\n",
      "Protocol 2: http\n",
      "Protocol 3: ftp\n"
     ]
    }
   ],
   "source": [
    "def extract_protocol(url):\n",
    "    # Find the index of the first occurrence of \"://\"\n",
    "    protocol_end = url.find(\"://\")\n",
    "\n",
    "    if protocol_end != -1:\n",
    " \n",
    "        protocol = url[:protocol_end]\n",
    "        return protocol\n",
    "    else:\n",
    "        return None\n",
    "\n",
    "url1 = \"https://www.example.com\"\n",
    "url2 = \"http://google.com\"\n",
    "url3 = \"ftp://ftp.example.com\"\n",
    "\n",
    "protocol1 = extract_protocol(url1)\n",
    "protocol2 = extract_protocol(url2)\n",
    "protocol3 = extract_protocol(url3)\n",
    "\n",
    "print(\"Protocol 1:\", protocol1)\n",
    "print(\"Protocol 2:\", protocol2)\n",
    "print(\"Protocol 3:\", protocol3)"
   ]
  },
  {
   "cell_type": "code",
   "execution_count": 16,
   "id": "cf0f4fb1-7d53-4790-9218-8837ea25cfb7",
   "metadata": {},
   "outputs": [
    {
     "name": "stdout",
     "output_type": "stream",
     "text": [
      "Character: 'h', Frequency: 1\n",
      "Character: 'e', Frequency: 1\n",
      "Character: 'l', Frequency: 3\n",
      "Character: 'o', Frequency: 2\n",
      "Character: ' ', Frequency: 1\n",
      "Character: 'w', Frequency: 1\n",
      "Character: 'r', Frequency: 1\n",
      "Character: 'd', Frequency: 1\n"
     ]
    }
   ],
   "source": [
    "def character_frequency(input_string):\n",
    "    frequency = {}  # Create an empty dictionary to store character frequencies\n",
    "\n",
    "    for char in input_string:\n",
    "        if char in frequency:\n",
    "            frequency[char] += 1  # Increment the frequency count if the character is already in the dictionary\n",
    "        else:\n",
    "            frequency[char] = 1   # Initialize the frequency count to 1 if the character is not in the dictionary\n",
    "\n",
    "    return frequency\n",
    "\n",
    "# Example string\n",
    "input_str = \"hello world\"\n",
    "\n",
    "# Calculate character frequencies\n",
    "char_freq = character_frequency(input_str)\n",
    "for char, freq in char_freq.items():\n",
    "    print(f\"Character: '{char}', Frequency: {freq}\")"
   ]
  },
  {
   "cell_type": "code",
   "execution_count": 1,
   "id": "78620ec5-a271-4d4c-994c-794f13a09ea1",
   "metadata": {},
   "outputs": [
    {
     "name": "stdout",
     "output_type": "stream",
     "text": [
      "Original string: Hello, world! How's it going?\n",
      "Cleaned string: Hello world Hows it going\n"
     ]
    }
   ],
   "source": [
    "import string\n",
    "\n",
    "def remove_punctuation(input_string):\n",
    "    translator = str.maketrans(\"\", \"\", string.punctuation)\n",
    "    clean_string = input_string.translate(translator)\n",
    "\n",
    "    return clean_string\n",
    "input_str = \"Hello, world! How's it going?\"\n",
    "cleaned_str = remove_punctuation(input_str)\n",
    "print(\"Original string:\", input_str)\n",
    "print(\"Cleaned string:\", cleaned_str)"
   ]
  },
  {
   "cell_type": "code",
   "execution_count": 4,
   "id": "9824aa2f-be5b-4cb1-8cee-f300c7ac4313",
   "metadata": {},
   "outputs": [
    {
     "name": "stdout",
     "output_type": "stream",
     "text": [
      "'12345' contains only digits: True\n",
      "'Hello123' contains only digits: False\n"
     ]
    }
   ],
   "source": [
    "def contains_only_digits(input_string):\n",
    "    return input_string.isdigit()\n",
    "string1 = \"12345\"\n",
    "string2 = \"Hello123\"\n",
    "result1 = contains_only_digits(string1)\n",
    "result2 = contains_only_digits(string2)\n",
    "print(f\"'{string1}' contains only digits:\", result1)\n",
    "print(f\"'{string2}' contains only digits:\", result2)\n"
   ]
  },
  {
   "cell_type": "code",
   "execution_count": 5,
   "id": "6314e92e-6545-4c84-86a9-d29e330a03e1",
   "metadata": {},
   "outputs": [
    {
     "name": "stdout",
     "output_type": "stream",
     "text": [
      "'Hello' contains only alphabets: True\n",
      "'Hello123' contains only alphabets: False\n",
      "'12345' contains only alphabets: False\n"
     ]
    }
   ],
   "source": [
    "def contains_only_alphabets(input_string):\n",
    "    return input_string.isalpha()\n",
    "string1 = \"Hello\"\n",
    "string2 = \"Hello123\"\n",
    "string3 = \"12345\"\n",
    "result1 = contains_only_alphabets(string1)\n",
    "result2 = contains_only_alphabets(string2)\n",
    "result3 = contains_only_alphabets(string3)\n",
    "print(f\"'{string1}' contains only alphabets:\", result1)\n",
    "print(f\"'{string2}' contains only alphabets:\", result2)\n",
    "print(f\"'{string3}' contains only alphabets:\", result3)"
   ]
  },
  {
   "cell_type": "code",
   "execution_count": 7,
   "id": "3cc4df52-b0e5-4b7b-a25d-3b398d0bee0c",
   "metadata": {},
   "outputs": [
    {
     "name": "stdout",
     "output_type": "stream",
     "text": [
      "Original string: Hello\n",
      "List of characters: ['H', 'e', 'l', 'l', 'o']\n"
     ]
    }
   ],
   "source": [
    "def string_to_list(input_string):\n",
    "    char_list = list(input_string)\n",
    "    return char_list\n",
    "\n",
    "# Example string\n",
    "input_str = \"Hello\"\n",
    "char_list = string_to_list(input_str)\n",
    "print(\"Original string:\", input_str)\n",
    "print(\"List of characters:\", char_list)"
   ]
  },
  {
   "cell_type": "code",
   "execution_count": 3,
   "id": "dde63943-feaa-4630-944d-c84e84d85a72",
   "metadata": {},
   "outputs": [
    {
     "name": "stdout",
     "output_type": "stream",
     "text": [
      "'listen' and 'silent' are anagrams: True\n",
      "'hello' and 'world' are anagrams: False\n"
     ]
    }
   ],
   "source": [
    "def are_anagrams(str1, str2):\n",
    "    # Remove spaces and convert strings to lowercase for accurate comparison\n",
    "    str1 = str1.replace(\" \", \"\").lower()\n",
    "    str2 = str2.replace(\" \", \"\").lower()\n",
    "    return sorted(str1) == sorted(str2)\n",
    "string1 = \"listen\"\n",
    "string2 = \"silent\"\n",
    "string3 = \"hello\"\n",
    "string4 = \"world\"\n",
    "result1 = are_anagrams(string1, string2)\n",
    "result2 = are_anagrams(string3, string4)\n",
    "print(f\"'{string1}' and '{string2}' are anagrams:\", result1)\n",
    "print(f\"'{string3}' and '{string4}' are anagrams:\", result2)"
   ]
  },
  {
   "cell_type": "code",
   "execution_count": 12,
   "id": "6d2f34e3-6e92-49b6-8c14-e4cf81506937",
   "metadata": {},
   "outputs": [
    {
     "name": "stdout",
     "output_type": "stream",
     "text": [
      "Encoded text: ehoor, zruog!\n"
     ]
    }
   ],
   "source": [
    "# Define a function named caesar_cipher that encodes a string using a Caesar cipher.\n",
    "def caesar_cipher(text, shift):\n",
    "  \"\"\"\n",
    "  Encodes a string using a Caesar cipher.\n",
    "\n",
    "  Args:\n",
    "    text: The string to encode.\n",
    "    shift: The number of positions to shift each letter.\n",
    "\n",
    "  Returns:\n",
    "    The encoded string.\n",
    "  \"\"\"\n",
    "  encoded_text = \"\"\n",
    "  for char in text:\n",
    "    if char.isalpha():\n",
    "      encoded_char = chr((ord(char) + shift - ord('a')) % 26 + ord('a'))\n",
    "    else:\n",
    "      encoded_char = char\n",
    "    encoded_text += encoded_char\n",
    "  return encoded_text\n",
    "text = \"Hello, world!\"\n",
    "shift = 3\n",
    "encoded_text = caesar_cipher(text, shift)\n",
    "print(\"Encoded text:\", encoded_text)"
   ]
  },
  {
   "cell_type": "code",
   "execution_count": 13,
   "id": "e2161ccc-4ea4-4f20-b6f4-96fc14fb77ec",
   "metadata": {},
   "outputs": [
    {
     "name": "stdout",
     "output_type": "stream",
     "text": [
      "Decoded text: ilmm, world!\n"
     ]
    }
   ],
   "source": [
    "# Define a function to decode a string using a Caesar cipher\n",
    "def caesar_cipher_decoder(text, shift):\n",
    "    \"\"\"\n",
    "    Decodes a string using a Caesar cipher.\n",
    "\n",
    "    Args:\n",
    "        text: The string to decode.\n",
    "        shift: The number of positions to shift each letter.\n",
    "\n",
    "    Returns:\n",
    "        The decoded string.\n",
    "    \"\"\"\n",
    "\n",
    "    # Initialize an empty string to store the decoded text\n",
    "    decoded_text = \"\"\n",
    "\n",
    "    # Loop through each character in the input text\n",
    "    for char in text:\n",
    "        # Check if the character is an alphabetic character\n",
    "        if char.isalpha():\n",
    "            # Calculate the decoded character using the shift value\n",
    "            decoded_char = chr((ord(char) - shift - ord('a')) % 26 + ord('a'))\n",
    "        else:\n",
    "            # If the character is not alphabetic, keep it unchanged\n",
    "            decoded_char = char\n",
    "         # Add the decoded character to the decoded text\n",
    "        decoded_text += decoded_char\n",
    "\n",
    "    # Return the fully decoded text\n",
    "    return decoded_text\n",
    "\n",
    "# Example input\n",
    "text = \"lopp, zruog!\"\n",
    "shift = 3\n",
    "\n",
    "# Call the caesar_cipher_decoder function to decode the input text\n",
    "decoded_text = caesar_cipher_decoder(text, shift)\n",
    "\n",
    "# Print the decoded text\n",
    "print(\"Decoded text:\", decoded_text)"
   ]
  },
  {
   "cell_type": "code",
   "execution_count": 14,
   "id": "656f45e2-b880-4e17-aa8e-29f505b64845",
   "metadata": {},
   "outputs": [
    {
     "name": "stdout",
     "output_type": "stream",
     "text": [
      "Unique words: {'hello', 'hows', 'there', 'world', 'the'}\n"
     ]
    }
   ],
   "source": [
    "import re\n",
    "\n",
    "def unique_words(input_string):\n",
    "    clean_string = re.sub(r'[^\\w\\s]', '', input_string).lower()\n",
    "    words = set(clean_string.split())\n",
    "\n",
    "    return words\n",
    "\n",
    "input_str = \"Hello world, hello there! How's the world?\"\n",
    "unique_word_set = unique_words(input_str)\n",
    "print(\"Unique words:\", unique_word_set)"
   ]
  },
  {
   "cell_type": "code",
   "execution_count": 15,
   "id": "3b4462b5-a184-437f-b7e6-298d64de6398",
   "metadata": {},
   "outputs": [
    {
     "name": "stdout",
     "output_type": "stream",
     "text": [
      "Most frequent word: hello\n"
     ]
    }
   ],
   "source": [
    "import re\n",
    "from collections import Counter\n",
    "\n",
    "def most_frequent_word(input_string):\n",
    "    clean_string = re.sub(r'[^\\w\\s]', '', input_string).lower()\n",
    "    words = clean_string.split()\n",
    "    word_counter = Counter(words)\n",
    "    most_common_word = word_counter.most_common(1)[0][0]\n",
    "    return most_common_word\n",
    "input_str = \"Hello world, hello there! How's the world?\"\n",
    "most_common = most_frequent_word(input_str)\n",
    "print(\"Most frequent word:\", most_common)"
   ]
  },
  {
   "cell_type": "code",
   "execution_count": 19,
   "id": "67b585e9-2d23-4f11-91c4-893fb28b515b",
   "metadata": {},
   "outputs": [
    {
     "name": "stdin",
     "output_type": "stream",
     "text": [
      "enter the str:   nikita&nidhi@\n"
     ]
    },
    {
     "name": "stdout",
     "output_type": "stream",
     "text": [
      "' nikita&nidhi@' contains special characters: True\n"
     ]
    }
   ],
   "source": [
    "import re\n",
    "\n",
    "def contains_special_characters(input_string):\n",
    "    pattern = re.compile(r'[!@#$%^&*()_+{}\\[\\]:;<>,.?~\\\\/]')\n",
    "    match = pattern.search(input_string)\n",
    "    return bool(match)\n",
    "\n",
    "string1 = input(\"enter the str: \")\n",
    "result1 = contains_special_characters(string1)\n",
    "print(f\"'{string1}' contains special characters:\", result1)\n"
   ]
  },
  {
   "cell_type": "code",
   "execution_count": 22,
   "id": "b3d24894-185d-4353-a4af-ad6c3d2aff49",
   "metadata": {},
   "outputs": [
    {
     "name": "stdout",
     "output_type": "stream",
     "text": [
      "Original string: This is an example sentence to test the function.\n",
      "Modified string: This is an sentence to test the function.\n",
      "Removed word: example\n"
     ]
    }
   ],
   "source": [
    "def remove_nth_word(input_string, n):\n",
    "    # Split the input string into words\n",
    "    words = input_string.split()\n",
    "\n",
    "    # Check if n is within a valid range\n",
    "    if n >= 1 and n <= len(words):\n",
    "        # Remove the nth word by excluding it from the words list\n",
    "        removed_word = words.pop(n - 1)\n",
    "\n",
    "        # Join the remaining words to form the modified string\n",
    "        modified_string = ' '.join(words)\n",
    "\n",
    "        return modified_string, removed_word\n",
    "    else:\n",
    "        return None, None\n",
    "\n",
    "# Example string and n value\n",
    "input_str = \"This is an example sentence to test the function.\"\n",
    "n_value = 4\n",
    "\n",
    "# Remove the nth word\n",
    "modified_str, removed_word = remove_nth_word(input_str, n_value)\n",
    "\n",
    "# Print the results\n",
    "print(\"Original string:\", input_str)\n",
    "if modified_str is not None:\n",
    "    print(\"Modified string:\", modified_str)\n",
    "    print(\"Removed word:\", removed_word)\n",
    "else:\n",
    "    print(\"Invalid n value.\")\n"
   ]
  },
  {
   "cell_type": "code",
   "execution_count": 23,
   "id": "ec9cb950-914e-440d-86dc-cd70ee56f97f",
   "metadata": {},
   "outputs": [
    {
     "name": "stdout",
     "output_type": "stream",
     "text": [
      "['Name', ' Age', ' Country']\n",
      "['John', ' 25', ' USA']\n",
      "['Alice', ' 30', ' Canada']\n",
      "['Bob', ' 22', ' UK']\n"
     ]
    }
   ],
   "source": [
    "def csv_string_to_list(csv_string):\n",
    "    lines = csv_string.split('\\n')\n",
    "    result = []\n",
    "\n",
    "    for line in lines:\n",
    "        fields = line.split(',')\n",
    "        result.append(fields)\n",
    "\n",
    "    return result\n",
    "csv_data = \"Name, Age, Country\\nJohn, 25, USA\\nAlice, 30, Canada\\nBob, 22, UK\"\n",
    "list_of_lists = csv_string_to_list(csv_data)\n",
    "for row in list_of_lists:\n",
    "    print(row)"
   ]
  },
  {
   "cell_type": "code",
   "execution_count": 2,
   "id": "85947f8d-6612-44f8-92ba-90f2e07cf751",
   "metadata": {},
   "outputs": [],
   "source": [
    "#TUPLE"
   ]
  },
  {
   "cell_type": "code",
   "execution_count": 1,
   "id": "77dbd7a2-8181-4d5e-82f5-b4ff3845492f",
   "metadata": {},
   "outputs": [
    {
     "name": "stdout",
     "output_type": "stream",
     "text": [
      "The third element of the tuple is: 3\n"
     ]
    }
   ],
   "source": [
    "\n",
    "my_tuple = (10, 20, 3, 4, 5)\n",
    "third_element = my_tuple[2]\n",
    "print(\"The third element of the tuple is:\", third_element)"
   ]
  },
  {
   "cell_type": "code",
   "execution_count": 5,
   "id": "515ccffa-e638-478f-86e0-2f4a93f5c15b",
   "metadata": {},
   "outputs": [
    {
     "name": "stdout",
     "output_type": "stream",
     "text": [
      "The length of the tuple is: 5\n"
     ]
    }
   ],
   "source": [
    "\n",
    "my_tuple = (10, 20, 30, 40, 50)\n",
    "count = 0\n",
    "for _ in my_tuple:\n",
    "    count += 1\n",
    "print(\"The length of the tuple is:\", count)"
   ]
  },
  {
   "cell_type": "code",
   "execution_count": 6,
   "id": "9c8a4218-fbfd-4071-8814-cc1b59487eb8",
   "metadata": {},
   "outputs": [
    {
     "name": "stdout",
     "output_type": "stream",
     "text": [
      "The element 20 appears 3 times in the tuple.\n"
     ]
    }
   ],
   "source": [
    "\n",
    "my_tuple = (10, 20, 30, 20, 40, 50, 20)\n",
    "element_to_count = 20\n",
    "count = 0\n",
    "for item in my_tuple:\n",
    "    if item == element_to_count:\n",
    "        count += 1\n",
    "print(f\"The element {element_to_count} appears {count} times in the tuple.\")"
   ]
  },
  {
   "cell_type": "code",
   "execution_count": 7,
   "id": "85f60779-1a0b-474a-b577-cc2db7332120",
   "metadata": {},
   "outputs": [
    {
     "name": "stdout",
     "output_type": "stream",
     "text": [
      "The first occurrence of 20 is at index 1.\n"
     ]
    }
   ],
   "source": [
    "# Step 1: Create a tuple\n",
    "my_tuple = (10, 20, 30, 20, 40, 50)\n",
    "element_to_find = 20\n",
    "index = -1 \n",
    "for i, item in enumerate(my_tuple):\n",
    "    if item == element_to_find:\n",
    "        index = i\n",
    "        break \n",
    "if index != -1:\n",
    "    print(f\"The first occurrence of {element_to_find} is at index {index}.\")\n",
    "else:\n",
    "    print(f\"{element_to_find} is not found in the tuple.\")"
   ]
  },
  {
   "cell_type": "code",
   "execution_count": 8,
   "id": "4e3ca872-309f-41a0-8c35-696f00d4a59b",
   "metadata": {},
   "outputs": [
    {
     "name": "stdout",
     "output_type": "stream",
     "text": [
      "30 exists in the tuple.\n"
     ]
    }
   ],
   "source": [
    "my_tuple = (10, 20, 30)\n",
    "element_to_check = 30\n",
    "if element_to_check in my_tuple:\n",
    "    print(f\"{element_to_check} exists in the tuple.\")\n",
    "else:\n",
    "    print(f\"{element_to_check} does not exist in the tuple.\")"
   ]
  },
  {
   "cell_type": "code",
   "execution_count": 9,
   "id": "3da24f73-78f1-4929-9abe-f66190b293c2",
   "metadata": {},
   "outputs": [
    {
     "name": "stdout",
     "output_type": "stream",
     "text": [
      "Tuple: (10, 20, 30, 40, 50)\n",
      "List: [10, 20, 30, 40, 50]\n"
     ]
    }
   ],
   "source": [
    "\n",
    "my_tuple = (10, 20, 30)\n",
    "my_list = list(my_tuple)\n",
    "print(\"Tuple:\", my_tuple)\n",
    "print(\"List:\", my_list)"
   ]
  },
  {
   "cell_type": "code",
   "execution_count": 10,
   "id": "d5e9deae-9f89-4e16-8e72-0d3d76e31ab0",
   "metadata": {},
   "outputs": [
    {
     "name": "stdout",
     "output_type": "stream",
     "text": [
      "List: [10, 20, 30, 40, 50]\n",
      "Tuple: (10, 20, 30, 40, 50)\n"
     ]
    }
   ],
   "source": [
    "my_list = [10, 20, 30, 40, 50]\n",
    "my_tuple = tuple(my_list)\n",
    "print(\"List:\", my_list)\n",
    "print(\"Tuple:\", my_tuple)\n"
   ]
  },
  {
   "cell_type": "code",
   "execution_count": 11,
   "id": "f1baf233-13d7-4d6f-9e35-ae0c0aa57379",
   "metadata": {},
   "outputs": [
    {
     "name": "stdout",
     "output_type": "stream",
     "text": [
      "var1: 10\n",
      "var2: 20\n",
      "var3: 30\n"
     ]
    }
   ],
   "source": [
    "\n",
    "my_tuple = (10, 20, 30)\n",
    "var1, var2, var3 = my_tuple\n",
    "print(\"var1:\", var1)\n",
    "print(\"var2:\", var2)\n",
    "print(\"var3:\", var3)"
   ]
  },
  {
   "cell_type": "code",
   "execution_count": 12,
   "id": "38ae03f6-f0fc-4f52-ae11-dae4efe75c4a",
   "metadata": {},
   "outputs": [
    {
     "name": "stdout",
     "output_type": "stream",
     "text": [
      "Tuple of even numbers: (2, 4, 6, 8, 10)\n"
     ]
    }
   ],
   "source": [
    "# Step 1: Create a list of even numbers using a list comprehension\n",
    "even_numbers_list = [num for num in range(2, 11, 2)]  # Start from 2, step by 2, end at 10\n",
    "\n",
    "# Step 2: Convert the list to a tuple\n",
    "even_numbers_tuple = tuple(even_numbers_list)\n",
    "\n",
    "# Step 3: Print the resulting tuple\n",
    "print(\"Tuple of even numbers:\", even_numbers_tuple)"
   ]
  },
  {
   "cell_type": "code",
   "execution_count": 11,
   "id": "19433dfc-6173-473d-8c40-b2d21d0c2793",
   "metadata": {},
   "outputs": [
    {
     "name": "stdout",
     "output_type": "stream",
     "text": [
      "2\n",
      "4\n",
      "6\n",
      "8\n",
      "10\n"
     ]
    }
   ],
   "source": [
    "for num in range(2,11,2):\n",
    "    print(num)\n",
    "    "
   ]
  },
  {
   "cell_type": "code",
   "execution_count": 13,
   "id": "4bebce18-a873-404a-877c-46208d9a2627",
   "metadata": {},
   "outputs": [
    {
     "name": "stdout",
     "output_type": "stream",
     "text": [
      "Tuple of even numbers: (1, 3, 5, 7, 9)\n"
     ]
    }
   ],
   "source": [
    "\n",
    "odd_numbers_list = [num for num in range(1, 10, 2)]  \n",
    "odd_numbers_list = tuple(odd_numbers_list)\n",
    "print(\"Tuple of even numbers:\", odd_numbers_list)"
   ]
  },
  {
   "cell_type": "code",
   "execution_count": 14,
   "id": "41ff0b84-7e96-4f06-8a59-f9be191d83d1",
   "metadata": {},
   "outputs": [
    {
     "name": "stdout",
     "output_type": "stream",
     "text": [
      "Concatenated tuple: (1, 2, 3, 4, 5, 6)\n"
     ]
    }
   ],
   "source": [
    "# Step 1: Create two tuples\n",
    "tuple1 = (1, 2, 3)\n",
    "tuple2 = (4, 5, 6)\n",
    "concatenated_tuple = tuple1 + tuple2\n",
    "print(\"Concatenated tuple:\", concatenated_tuple)"
   ]
  },
  {
   "cell_type": "code",
   "execution_count": 15,
   "id": "e6fd527c-dcd4-473c-8d49-2ff8b91fb5d2",
   "metadata": {},
   "outputs": [
    {
     "name": "stdout",
     "output_type": "stream",
     "text": [
      "Repeated tuple: (1, 2, 3, 1, 2, 3, 1, 2, 3)\n"
     ]
    }
   ],
   "source": [
    "\n",
    "original_tuple = (1, 2, 3)\n",
    "repeated_tuple = original_tuple * 3\n",
    "print(\"Repeated tuple:\", repeated_tuple)"
   ]
  },
  {
   "cell_type": "code",
   "execution_count": 16,
   "id": "c81500a2-4f7e-4515-a731-d760ea30e9a7",
   "metadata": {},
   "outputs": [
    {
     "name": "stdout",
     "output_type": "stream",
     "text": [
      "The empty_tuple is empty.\n",
      "The non_empty_tuple is not empty.\n"
     ]
    }
   ],
   "source": [
    "\n",
    "empty_tuple = ()\n",
    "non_empty_tuple = (1, 2, 3)\n",
    "if not empty_tuple:\n",
    "    print(\"The empty_tuple is empty.\")\n",
    "else:\n",
    "    print(\"The empty_tuple is not empty.\")\n",
    "\n",
    "if not non_empty_tuple:\n",
    "    print(\"The non_empty_tuple is empty.\")\n",
    "else:\n",
    "    print(\"The non_empty_tuple is not empty.\")"
   ]
  },
  {
   "cell_type": "code",
   "execution_count": 14,
   "id": "18cef496-fc55-4fe8-ae2e-3a4cc248a758",
   "metadata": {},
   "outputs": [
    {
     "name": "stdout",
     "output_type": "stream",
     "text": [
      "Nested tuple: ((1, 2), ('b', 'c'), (True, False))\n"
     ]
    }
   ],
   "source": [
    "\n",
    "nested_tuple = ((1, 2, ), ( 'b', 'c'), (True, False))\n",
    "print(\"Nested tuple:\", nested_tuple)"
   ]
  },
  {
   "cell_type": "code",
   "execution_count": 18,
   "id": "f37854e1-1c74-4a72-b589-7c83bed558e7",
   "metadata": {},
   "outputs": [
    {
     "name": "stdout",
     "output_type": "stream",
     "text": [
      "First element of the nested tuple: (1, 2, 3)\n"
     ]
    }
   ],
   "source": [
    "\n",
    "nested_tuple = ((1, 2, 3), ('a', 'b', 'c'), (True, False))\n",
    "first_element = nested_tuple[0]\n",
    "print(\"First element of the nested tuple:\", first_element)"
   ]
  },
  {
   "cell_type": "code",
   "execution_count": 15,
   "id": "538ee31b-c595-453a-888a-39329f6f6dd9",
   "metadata": {},
   "outputs": [
    {
     "name": "stdout",
     "output_type": "stream",
     "text": [
      "Single element tuple: 42\n"
     ]
    }
   ],
   "source": [
    "\n",
    "single_element_tuple = (42,) \n",
    "print(\"Single element tuple:\", single_element_tuple)"
   ]
  },
  {
   "cell_type": "code",
   "execution_count": 16,
   "id": "56e70c68-895d-40de-9459-ef00447186d4",
   "metadata": {},
   "outputs": [
    {
     "name": "stdout",
     "output_type": "stream",
     "text": [
      "tuple1 == tuple2: False\n",
      "tuple1 != tuple2: True\n",
      "tuple1 < tuple2: True\n",
      "tuple1 <= tuple2: True\n",
      "tuple1 > tuple2: False\n",
      "tuple1 >= tuple2: False\n"
     ]
    }
   ],
   "source": [
    "\n",
    "tuple1 = (1, 2, 3, 4 ,5 ,6)\n",
    "tuple2 = (1, 2, 4, 7, 8 , 9)\n",
    "\n",
    "print(\"tuple1 == tuple2:\", tuple1 == tuple2)  \n",
    "print(\"tuple1 != tuple2:\", tuple1 != tuple2)  \n",
    "print(\"tuple1 < tuple2:\", tuple1 < tuple2)   \n",
    "print(\"tuple1 <= tuple2:\", tuple1 <= tuple2)  \n",
    "print(\"tuple1 > tuple2:\", tuple1 > tuple2)    \n",
    "print(\"tuple1 >= tuple2:\", tuple1 >= tuple2)  "
   ]
  },
  {
   "cell_type": "code",
   "execution_count": 18,
   "id": "36b9a252-291a-4d15-b8a0-18a8e31b6161",
   "metadata": {},
   "outputs": [
    {
     "ename": "NameError",
     "evalue": "name 'x' is not defined",
     "output_type": "error",
     "traceback": [
      "\u001b[0;31m---------------------------------------------------------------------------\u001b[0m",
      "\u001b[0;31mNameError\u001b[0m                                 Traceback (most recent call last)",
      "Cell \u001b[0;32mIn[18], line 3\u001b[0m\n\u001b[1;32m      1\u001b[0m x \u001b[38;5;241m=\u001b[39m (\u001b[38;5;241m3\u001b[39m,\u001b[38;5;241m4\u001b[39m)\n\u001b[1;32m      2\u001b[0m \u001b[38;5;28;01mdel\u001b[39;00m x\n\u001b[0;32m----> 3\u001b[0m \u001b[38;5;28mprint\u001b[39m(\u001b[43mx\u001b[49m)\n",
      "\u001b[0;31mNameError\u001b[0m: name 'x' is not defined"
     ]
    }
   ],
   "source": [
    "x = (3,4)\n",
    "del x\n",
    "print(x)"
   ]
  },
  {
   "cell_type": "code",
   "execution_count": 20,
   "id": "6d98c332-2d2d-4338-ad6f-3c5eebd196f7",
   "metadata": {},
   "outputs": [
    {
     "name": "stdout",
     "output_type": "stream",
     "text": [
      "Sliced tuple: (3, 4, 5, 6, 7, 8, 9)\n"
     ]
    }
   ],
   "source": [
    "\n",
    "my_tuple = (1, 2, 3, 4, 5, 6, 7, 8, 9, 10)\n",
    "sliced_tuple = my_tuple[2:9] \n",
    "print(\"Sliced tuple:\", sliced_tuple)"
   ]
  },
  {
   "cell_type": "code",
   "execution_count": 21,
   "id": "b74851a8-83a7-4f31-afcf-59b722af1b32",
   "metadata": {},
   "outputs": [
    {
     "name": "stdout",
     "output_type": "stream",
     "text": [
      "Maximum value: 10\n"
     ]
    }
   ],
   "source": [
    "# Step 1: Create a tuple\n",
    "my_tuple = (10, 2, 5, 4, 3)\n",
    "max_value = max(my_tuple)\n",
    "print(\"Maximum value:\", max_value)"
   ]
  },
  {
   "cell_type": "code",
   "execution_count": 22,
   "id": "3b9af3f0-3dd5-4dc4-add3-2bad8edbedab",
   "metadata": {},
   "outputs": [
    {
     "name": "stdout",
     "output_type": "stream",
     "text": [
      "Maximum value: 2\n"
     ]
    }
   ],
   "source": [
    "my_tuple = (10, 2, 5, 4, 3)\n",
    "max_value = min(my_tuple)\n",
    "print(\"Maximum value:\", max_value)"
   ]
  },
  {
   "cell_type": "code",
   "execution_count": 24,
   "id": "7557f18a-b353-4f86-be8b-ebe1907b1bef",
   "metadata": {},
   "outputs": [
    {
     "name": "stdout",
     "output_type": "stream",
     "text": [
      "Tuple of characters: ('H', 'e', 'l', 'l', 'o', ' ', '!', '!', '!', '!')\n"
     ]
    }
   ],
   "source": [
    "\n",
    "my_string = \"Hello !!!!\"\n",
    "tuple_of_char = tuple(my_string)\n",
    "print(\"Tuple of characters:\", tuple_of_char)"
   ]
  },
  {
   "cell_type": "code",
   "execution_count": 40,
   "id": "6c49bac9-1703-4b8c-9139-383c5de91eca",
   "metadata": {},
   "outputs": [
    {
     "name": "stdout",
     "output_type": "stream",
     "text": [
      "String from tuple: Hello World!\n"
     ]
    }
   ],
   "source": [
    "tuple_of_characters = ('H', 'e', 'l', 'l', 'o', ' ', 'W', 'o', 'r', 'l', 'd', '!')\n",
    "string_from_tuple =''.join(tuple_of_characters)\n",
    "print(\"String from tuple:\", string_from_tuple)"
   ]
  },
  {
   "cell_type": "code",
   "execution_count": 28,
   "id": "14bf3e14-e30c-44f3-899c-d477c592ce4a",
   "metadata": {},
   "outputs": [
    {
     "name": "stdout",
     "output_type": "stream",
     "text": [
      "(1, 'hello', 3.14, True)\n"
     ]
    }
   ],
   "source": [
    "\n",
    "mixed_tuple = (1, \"hello\", 3.14, True)\n",
    "print(mixed_tuple)"
   ]
  },
  {
   "cell_type": "code",
   "execution_count": 31,
   "id": "18cb9f58-1706-42e6-93e0-5027f710a05b",
   "metadata": {},
   "outputs": [
    {
     "name": "stdout",
     "output_type": "stream",
     "text": [
      "tuple1 and tuple2 are identical: True\n",
      "tuple1 and tuple3 are identical: False\n"
     ]
    }
   ],
   "source": [
    "# Step 1: Create two tuples\n",
    "tuple1 = (1, 2, 3)\n",
    "tuple2 = (1, 2, 3)\n",
    "tuple3 = (4, 5, 6)\n",
    "\n",
    "# Step 2: Compare the tuples for identity using the equality operator\n",
    "are_identical1 = tuple1 == tuple2\n",
    "are_identical2 = tuple1 == tuple3\n",
    "\n",
    "# Step 3: Print the results\n",
    "print(\"tuple1 and tuple2 are identical:\", are_identical1)\n",
    "print(\"tuple1 and tuple3 are identical:\", are_identical2)"
   ]
  },
  {
   "cell_type": "code",
   "execution_count": 35,
   "id": "bd4980d7-f592-4b6c-ad2f-d04173debc04",
   "metadata": {},
   "outputs": [
    {
     "name": "stdout",
     "output_type": "stream",
     "text": [
      "Sorted tuple: (1, 2, 3, 5, 8)\n"
     ]
    }
   ],
   "source": [
    "\n",
    "my_tuple = (5, 2, 8, 1, 3)\n",
    "sorted_tuple = tuple(sorted(my_tuple))\n",
    "print(\"Sorted tuple:\", sorted_tuple)"
   ]
  },
  {
   "cell_type": "code",
   "execution_count": 36,
   "id": "7f168012-e901-4f17-b1ec-16d8c0715968",
   "metadata": {},
   "outputs": [
    {
     "name": "stdout",
     "output_type": "stream",
     "text": [
      "Tuple of strings: ('1', '2', '3', '4', '5')\n"
     ]
    }
   ],
   "source": [
    "tuple_of_integers = (1, 2, 3, 4, 5)\n",
    "tuple_of_strings = tuple(str(item) for item in tuple_of_integers)\n",
    "print(\"Tuple of strings:\", tuple_of_strings)"
   ]
  },
  {
   "cell_type": "code",
   "execution_count": 37,
   "id": "953abe8c-4964-4336-aeb4-5b8fa180282e",
   "metadata": {},
   "outputs": [
    {
     "name": "stdout",
     "output_type": "stream",
     "text": [
      "Tuple of integers: (10, 20, 30, 40, 50)\n"
     ]
    }
   ],
   "source": [
    "\n",
    "tuple_of_strings = ('10', '20', '30', '40', '50')\n",
    "tuple_of_integers = tuple(int(item) for item in tuple_of_strings)\n",
    "print(\"Tuple of integers:\", tuple_of_integers)"
   ]
  },
  {
   "cell_type": "code",
   "execution_count": 5,
   "id": "60e6d213-a231-4f77-858b-a138fe629ca9",
   "metadata": {},
   "outputs": [
    {
     "name": "stdout",
     "output_type": "stream",
     "text": [
      "Merged tuple: (1, 2, 3, 4, 5, 6)\n"
     ]
    }
   ],
   "source": [
    "\n",
    "tuple1 = (1, 2, 3)\n",
    "tuple2 = (4, 5, 6)\n",
    "merged_tuple = tuple1 + tuple2\n",
    "print(\"Merged tuple:\", merged_tuple)"
   ]
  },
  {
   "cell_type": "code",
   "execution_count": 4,
   "id": "db12c03a-b421-4076-957c-afd3b07599b0",
   "metadata": {},
   "outputs": [
    {
     "name": "stdout",
     "output_type": "stream",
     "text": [
      "Flattened tuple: (1, 2, 6, 7, 8)\n"
     ]
    }
   ],
   "source": [
    "def flatten_tuple(nested_tuple):\n",
    "    flattened = []\n",
    "    for item in nested_tuple:\n",
    "        if isinstance(item, tuple):\n",
    "            flattened.extend(flatten_tuple(item))\n",
    "        else:\n",
    "            flattened.append(item)\n",
    "    return flattened\n",
    "nested_tuple = ((1, 2),  (6, (7, 8)))\n",
    "flattened_tuple = tuple(flatten_tuple(nested_tuple))\n",
    "print(\"Flattened tuple:\", flattened_tuple)"
   ]
  },
  {
   "cell_type": "code",
   "execution_count": 3,
   "id": "02181086-6c7e-4e00-9e91-0376656242f5",
   "metadata": {},
   "outputs": [
    {
     "name": "stdout",
     "output_type": "stream",
     "text": [
      "Tuple of the first 5 prime numbers: (2, 3, 5, 7, 9)\n"
     ]
    }
   ],
   "source": [
    "def is_prime(num):\n",
    "    if num <= 1:\n",
    "        return False\n",
    "    for i in range(2, int(num ** 0.5) + 1):\n",
    "        if num % i == 0:\n",
    "            return False\n",
    "        else:\n",
    "            num = num+1\n",
    "    return True\n",
    "prime_numbers_list = [num for num in range(2, 100) if is_prime(num)][:5]\n",
    "prime_numbers_tuple = tuple(prime_numbers_list)\n",
    "print(\"Tuple of the first 5 prime numbers:\", prime_numbers_tuple)"
   ]
  },
  {
   "cell_type": "code",
   "execution_count": 7,
   "id": "09378067-1e1f-4f6c-82d9-16266bed3d4d",
   "metadata": {},
   "outputs": [
    {
     "name": "stdout",
     "output_type": "stream",
     "text": [
      "palindrome_tuple is a palindrome: (1, 2, 3, 2, 1)\n"
     ]
    }
   ],
   "source": [
    "def is_palindrome(tup):\n",
    "    tup == tup[::-1]\n",
    "    return (tup)\n",
    "palindrome_tuple = (1, 2, 3, 2, 1)\n",
    "\n",
    "is_palindrome1 = is_palindrome(palindrome_tuple)\n",
    "\n",
    "print(\"palindrome_tuple is a palindrome:\", is_palindrome1)\n"
   ]
  },
  {
   "cell_type": "code",
   "execution_count": 8,
   "id": "1d58aa6e-c937-4b75-a9a2-a0cfbe6601a8",
   "metadata": {},
   "outputs": [
    {
     "name": "stdout",
     "output_type": "stream",
     "text": [
      "Tuple of squares: (1, 4, 9, 16, 25)\n"
     ]
    }
   ],
   "source": [
    "squares_tuple = tuple(x ** 2 for x in range(1, 6))\n",
    "print(\"Tuple of squares:\", squares_tuple)"
   ]
  },
  {
   "cell_type": "code",
   "execution_count": 11,
   "id": "56b3040e-69b0-45bd-b839-d2a251dc6437",
   "metadata": {},
   "outputs": [
    {
     "name": "stdout",
     "output_type": "stream",
     "text": [
      "Filtered tuple: (1, 3, 5, 7, 9)\n"
     ]
    }
   ],
   "source": [
    "original_tuple = (1, 2, 3, 4, 5, 6, 7, 8, 9, 10)\n",
    "filtered_tuple = tuple(num for num in original_tuple if num % 2 != 0)\n",
    "print(\"Filtered tuple:\", filtered_tuple)"
   ]
  },
  {
   "cell_type": "code",
   "execution_count": 12,
   "id": "3fd20f6f-30c8-4b38-8645-a69e22cff485",
   "metadata": {},
   "outputs": [
    {
     "name": "stdout",
     "output_type": "stream",
     "text": [
      "Doubled tuple: (2, 4, 6, 8, 10)\n"
     ]
    }
   ],
   "source": [
    "original_tuple = (1, 2, 3, 4, 5)\n",
    "doubled_tuple = tuple(num * 2 for num in original_tuple)\n",
    "print(\"Doubled tuple:\", doubled_tuple)"
   ]
  },
  {
   "cell_type": "code",
   "execution_count": 13,
   "id": "8494a34a-c8b8-45b4-a270-f39d2eec0069",
   "metadata": {},
   "outputs": [
    {
     "name": "stdout",
     "output_type": "stream",
     "text": [
      "Random tuple: (22, 43, 61, 21, 34, 80, 70, 66, 64, 61)\n"
     ]
    }
   ],
   "source": [
    "import random\n",
    "random_tuple = tuple(random.randint(1, 100) for _ in range(10))  \n",
    "print(\"Random tuple:\", random_tuple)"
   ]
  },
  {
   "cell_type": "code",
   "execution_count": 14,
   "id": "a9c4e7a3-80f3-4a68-ab63-a09550f93fad",
   "metadata": {},
   "outputs": [
    {
     "name": "stdout",
     "output_type": "stream",
     "text": [
      "sorted_tuple is sorted: True\n",
      "unsorted_tuple is sorted: False\n"
     ]
    }
   ],
   "source": [
    "def is_sorted(tup):\n",
    "    for i in range(len(tup) - 1):\n",
    "        if tup[i] > tup[i + 1]:\n",
    "            return False\n",
    "    return True\n",
    "sorted_tuple = (1, 2, 3, 4, 5)\n",
    "unsorted_tuple = (5, 3, 1, 4, 2)\n",
    "is_sorted1 = is_sorted(sorted_tuple)\n",
    "is_sorted2 = is_sorted(unsorted_tuple)\n",
    "print(\"sorted_tuple is sorted:\", is_sorted1)\n",
    "print(\"unsorted_tuple is sorted:\", is_sorted2)"
   ]
  },
  {
   "cell_type": "code",
   "execution_count": 15,
   "id": "628c55d0-ce8e-4f74-81d1-257ab8c1e516",
   "metadata": {},
   "outputs": [
    {
     "name": "stdout",
     "output_type": "stream",
     "text": [
      "(3, 4, 5, 1, 2)\n"
     ]
    }
   ],
   "source": [
    "def rotate_tuple_left(tup, n):\n",
    "    n = n % len(tup) \n",
    "    rotated_tuple = tup[n:] + tup[:n] \n",
    "    return rotated_tuple\n",
    "my_tuple = (1, 2, 3, 4, 5)\n",
    "n_positions = 2\n",
    "result = rotate_tuple_left(my_tuple, n_positions)\n",
    "print(result)"
   ]
  },
  {
   "cell_type": "code",
   "execution_count": 16,
   "id": "4e46aceb-86dc-4339-a907-c4d2d3a28f68",
   "metadata": {},
   "outputs": [
    {
     "name": "stdout",
     "output_type": "stream",
     "text": [
      "(4, 5, 1, 2, 3)\n"
     ]
    }
   ],
   "source": [
    "def rotate_tuple_right(tup, n):\n",
    "    n = n % len(tup) \n",
    "    rotated_tuple = tup[-n:] + tup[:-n]\n",
    "    return rotated_tuple\n",
    "my_tuple = (1, 2, 3, 4, 5)\n",
    "n_positions = 2\n",
    "result = rotate_tuple_right(my_tuple, n_positions)\n",
    "print(result)"
   ]
  },
  {
   "cell_type": "code",
   "execution_count": 18,
   "id": "154042c1-2598-4482-a41e-60d9b6515749",
   "metadata": {},
   "outputs": [
    {
     "name": "stdout",
     "output_type": "stream",
     "text": [
      "(0, 1, 1, 2, 3)\n"
     ]
    }
   ],
   "source": [
    "# Define a function to generate the first n Fibonacci numbers\n",
    "def generate_fibonacci(n):\n",
    "    fibonacci = [0, 1]  # Initialize the list with the first two Fibonacci numbers\n",
    "    while len(fibonacci) < n:  # Continue generating Fibonacci numbers until the list has n elements\n",
    "        next_number = fibonacci[-1] + fibonacci[-2]  # Calculate the next Fibonacci number\n",
    "        fibonacci.append(next_number)  # Add the next Fibonacci number to the list\n",
    "    return tuple(fibonacci)  # Convert the list to a tuple and return it\n",
    "\n",
    "# Call the generate_fibonacci function to create a tuple of the first 5 Fibonacci numbers\n",
    "fibonacci_tuple = generate_fibonacci(5)\n",
    "\n",
    "# Print the resulting tuple\n",
    "print(fibonacci_tuple)"
   ]
  },
  {
   "cell_type": "code",
   "execution_count": 20,
   "id": "3312458e-755f-4ad2-999f-a03dc60b71cf",
   "metadata": {},
   "outputs": [
    {
     "name": "stdin",
     "output_type": "stream",
     "text": [
      "Enter elements separated by commas:  e,m,k\n"
     ]
    },
    {
     "name": "stdout",
     "output_type": "stream",
     "text": [
      "User input tuple: ('e', 'm', 'k')\n"
     ]
    }
   ],
   "source": [
    "\n",
    "input_str = input(\"Enter elements separated by commas: \")\n",
    "input_list = input_str.split(',')\n",
    "user_tuple = tuple(input_list)\n",
    "print(\"User input tuple:\", user_tuple)"
   ]
  },
  {
   "cell_type": "code",
   "execution_count": 25,
   "id": "9500b2d7-5ca7-4dca-b516-b334a07bdf31",
   "metadata": {},
   "outputs": [
    {
     "name": "stdout",
     "output_type": "stream",
     "text": [
      "Swapped tuple: (1, 4, 3, 2, 5)\n"
     ]
    }
   ],
   "source": [
    "\n",
    "my_tuple = (1, 2, 3, 4, 5)\n",
    "index1 = 1\n",
    "index2 = 3\n",
    "swapped_tuple = tuple( \n",
    "    my_tuple[i] if i not in (index1, index2) else #  eg:1 , 3, 5\n",
    "    my_tuple[index2] if i == index1 else #eg: 2\n",
    "    my_tuple[index1] # eg :4\n",
    "    for i in range(len(my_tuple))\n",
    ")\n",
    "print(\"Swapped tuple:\", swapped_tuple)"
   ]
  },
  {
   "cell_type": "code",
   "execution_count": 29,
   "id": "0c738030-3cf4-4b3b-ae80-efbb3dd5f127",
   "metadata": {},
   "outputs": [
    {
     "name": "stdout",
     "output_type": "stream",
     "text": [
      "Swapped tuple: (9, 8, 4)\n"
     ]
    }
   ],
   "source": [
    "my_tup = (4,8,9)\n",
    "i1=0\n",
    "i2=2\n",
    "swap_tup = tuple(\n",
    "    my_tup[i] if i not in(i1,i2) \n",
    "    else my_tup[i2] if i == i1 else\n",
    "    my_tup[i1]\n",
    "    for i in range(len(my_tup))\n",
    ")\n",
    "print(\"Swapped tuple:\", swap_tup)"
   ]
  },
  {
   "cell_type": "code",
   "execution_count": 30,
   "id": "b0c321f7-035b-4bd2-b73f-46755839bd70",
   "metadata": {},
   "outputs": [
    {
     "name": "stdout",
     "output_type": "stream",
     "text": [
      "Reversed tuple: (5, 4, 3, 2, 1)\n"
     ]
    }
   ],
   "source": [
    "\n",
    "my_tuple = (1, 2, 3, 4, 5)\n",
    "reversed_tuple = my_tuple[::-1]\n",
    "print(\"Reversed tuple:\", reversed_tuple)"
   ]
  },
  {
   "cell_type": "code",
   "execution_count": 31,
   "id": "e311c3f8-37db-4026-a6a7-7da2e70a8166",
   "metadata": {},
   "outputs": [
    {
     "name": "stdout",
     "output_type": "stream",
     "text": [
      "Tuple of the first 8 powers of 2: (1, 2, 4, 8, 16, 32, 64, 128)\n"
     ]
    }
   ],
   "source": [
    "n = 8\n",
    "powers_of_2_tuple = tuple(2 ** i for i in range(n))\n",
    "print(\"Tuple of the first\", n, \"powers of 2:\", powers_of_2_tuple)"
   ]
  },
  {
   "cell_type": "code",
   "execution_count": 35,
   "id": "f9bfb592-a04e-4788-beac-c7eb93aec2e6",
   "metadata": {},
   "outputs": [
    {
     "name": "stdout",
     "output_type": "stream",
     "text": [
      "Longest string: banana\n"
     ]
    }
   ],
   "source": [
    "string_tuple = (\"apple\", \"banana\", \"grape\", \"orange\")\n",
    "\n",
    "# Find the longest string in the tuple\n",
    "longest_string = max(string_tuple, key=len)\n",
    "print(\"Longest string:\", longest_string)"
   ]
  },
  {
   "cell_type": "code",
   "execution_count": 36,
   "id": "97abdedf-9f81-4312-afa8-1d589331d8ed",
   "metadata": {},
   "outputs": [
    {
     "name": "stdout",
     "output_type": "stream",
     "text": [
      "Shortest string: kiwi\n"
     ]
    }
   ],
   "source": [
    "\n",
    "string_tuple = (\"apple\", \"banana\", \"grape\", \"kiwi\", \"watermelon\")\n",
    "shortest_string = min(string_tuple, key=len)\n",
    "print(\"Shortest string:\", shortest_string)"
   ]
  },
  {
   "cell_type": "code",
   "execution_count": 37,
   "id": "19560e18-adb4-40ec-92a6-0795ff83d6e6",
   "metadata": {},
   "outputs": [
    {
     "name": "stdout",
     "output_type": "stream",
     "text": [
      "Tuple of the first 5 triangular numbers: (1, 3, 6, 10, 15)\n"
     ]
    }
   ],
   "source": [
    "# Define the value of n\n",
    "n = 5\n",
    "\n",
    "# Create a tuple of the first n triangular numbers using a list comprehension\n",
    "triangular_numbers_tuple = tuple((i * (i + 1)) // 2 for i in range(1, n + 1))\n",
    "\n",
    "# Print the tuple of triangular numbers\n",
    "print(\"Tuple of the first\", n, \"triangular numbers:\", triangular_numbers_tuple)"
   ]
  },
  {
   "cell_type": "code",
   "execution_count": 38,
   "id": "bd4e7199-59f3-4849-ab75-9d29cdc95611",
   "metadata": {},
   "outputs": [
    {
     "name": "stdout",
     "output_type": "stream",
     "text": [
      "Main tuple contains subsequence tuple: True\n"
     ]
    }
   ],
   "source": [
    "\n",
    "def contains_subsequence(main_tuple, sub_tuple):\n",
    "    sub_length = len(sub_tuple)\n",
    "    for i in range(len(main_tuple) - sub_length + 1):\n",
    "        if main_tuple[i:i+sub_length] == sub_tuple:\n",
    "            return True\n",
    "    return False\n",
    "main_tuple = (1, 2, 3, 4, 5, 6, 7, 8, 9)\n",
    "sub_tuple = (3, 4, 5)\n",
    "contains_subseq = contains_subsequence(main_tuple, sub_tuple)\n",
    "print(\"Main tuple contains subsequence tuple:\", contains_subseq)"
   ]
  },
  {
   "cell_type": "code",
   "execution_count": 40,
   "id": "db9ce76b-ead7-400e-949b-482b99997b55",
   "metadata": {},
   "outputs": [
    {
     "name": "stdout",
     "output_type": "stream",
     "text": [
      "Tuple of alternating 1s and 0s: (0, 1, 0, 1, 0, 1, 0, 1, 0, 1)\n"
     ]
    }
   ],
   "source": [
    "\n",
    "n = 10\n",
    "alternating_tuple = tuple(i % 2 for i in range(n))\n",
    "print(\"Tuple of alternating 1s and 0s:\", alternating_tuple)"
   ]
  },
  {
   "cell_type": "code",
   "execution_count": null,
   "id": "78ad668c-fa6c-4cd5-812a-fa1e3d2bb511",
   "metadata": {},
   "outputs": [],
   "source": [
    "#LIST"
   ]
  },
  {
   "cell_type": "code",
   "execution_count": 1,
   "id": "1d021e18-fa11-48e6-8450-08700d51e82e",
   "metadata": {},
   "outputs": [
    {
     "name": "stdout",
     "output_type": "stream",
     "text": [
      "[1, 2, 3, 4, 5, 6, 7, 8, 9, 10]\n"
     ]
    }
   ],
   "source": [
    "int_list = [i for i in range(1, 11)]\n",
    "print(int_list)"
   ]
  },
  {
   "cell_type": "code",
   "execution_count": 2,
   "id": "4e444d95-dae2-4188-95a2-5ab1278db288",
   "metadata": {},
   "outputs": [
    {
     "name": "stdout",
     "output_type": "stream",
     "text": [
      "Length of the list: 5\n"
     ]
    }
   ],
   "source": [
    "def custom_len(input_list):\n",
    "    count = 0\n",
    "    for _ in input_list:\n",
    "        count += 1\n",
    "    return count\n",
    "\n",
    "# Example list\n",
    "my_list = [10, 20, 30, 40, 50]\n",
    "\n",
    "# Find the length of the list using the custom_len function\n",
    "length = custom_len(my_list)\n",
    "\n",
    "# Print the length of the list\n",
    "print(\"Length of the list:\", length)"
   ]
  },
  {
   "cell_type": "code",
   "execution_count": 3,
   "id": "957c3e2a-5a75-415e-bfee-815df7abc9cb",
   "metadata": {},
   "outputs": [
    {
     "name": "stdout",
     "output_type": "stream",
     "text": [
      "Updated list: [10, 20, 30, 40]\n"
     ]
    }
   ],
   "source": [
    "\n",
    "my_list = [10, 20, 30]\n",
    "new_element = 40\n",
    "my_list.append(new_element)\n",
    "print(\"Updated list:\", my_list)"
   ]
  },
  {
   "cell_type": "code",
   "execution_count": 5,
   "id": "c669cf16-6923-4408-a0d5-842e38592595",
   "metadata": {},
   "outputs": [
    {
     "name": "stdout",
     "output_type": "stream",
     "text": [
      "[10, 20, 26, 30, 40, 50]\n"
     ]
    }
   ],
   "source": [
    "my_list = [10, 20, 30, 40, 50]\n",
    "my_list.insert(2,26)\n",
    "print(my_list)"
   ]
  },
  {
   "cell_type": "code",
   "execution_count": 11,
   "id": "93b4d68d-f463-4c08-bd00-6e3219608e74",
   "metadata": {},
   "outputs": [
    {
     "name": "stdout",
     "output_type": "stream",
     "text": [
      "[10, 30, 40, 50]\n"
     ]
    }
   ],
   "source": [
    "my_list = [10, 20, 30, 40, 50]\n",
    "my_list.remove(20)\n",
    "print(my_list)"
   ]
  },
  {
   "cell_type": "code",
   "execution_count": 12,
   "id": "f7a37378-2531-4413-b786-ecd68e3e4062",
   "metadata": {},
   "outputs": [
    {
     "name": "stdout",
     "output_type": "stream",
     "text": [
      "[10, 20, 40, 50]\n"
     ]
    }
   ],
   "source": [
    "my_list = [10, 20, 30, 40, 50]\n",
    "my_list.pop(2)\n",
    "print(my_list)"
   ]
  },
  {
   "cell_type": "code",
   "execution_count": 13,
   "id": "cb6f22f3-d7a6-4ead-8283-92bde4fb6123",
   "metadata": {},
   "outputs": [
    {
     "name": "stdout",
     "output_type": "stream",
     "text": [
      "30 exists in the list.\n"
     ]
    }
   ],
   "source": [
    "# Example list\n",
    "my_list = [10, 20, 30, 40, 50]\n",
    "element_to_check = 30\n",
    "if element_to_check in my_list:\n",
    "    print(f\"{element_to_check} exists in the list.\")\n",
    "else:\n",
    "    print(f\"{element_to_check} does not exist in the list.\")"
   ]
  },
  {
   "cell_type": "code",
   "execution_count": 14,
   "id": "eac23350-0d8a-4966-a3dd-66350f3d735b",
   "metadata": {},
   "outputs": [
    {
     "name": "stdout",
     "output_type": "stream",
     "text": [
      "The index of 30 is 2\n"
     ]
    }
   ],
   "source": [
    "\n",
    "my_list = [10, 20, 30, 40, 50, 30]\n",
    "element_to_find = 30\n",
    "index = my_list.index(element_to_find)\n",
    "print(f\"The index of {element_to_find} is {index}\")"
   ]
  },
  {
   "cell_type": "code",
   "execution_count": 15,
   "id": "ac9ffa24-a884-4815-9a1f-d0747d0ea740",
   "metadata": {},
   "outputs": [
    {
     "name": "stdout",
     "output_type": "stream",
     "text": [
      "The index of 30 is 2\n"
     ]
    }
   ],
   "source": [
    "my_list = [10, 20, 30, 40, 50, 30]\n",
    "element_to_count = 30\n",
    "count = my_list.count(element_to_count)\n",
    "print(f\"The index of {element_to_count} is {count}\")"
   ]
  },
  {
   "cell_type": "code",
   "execution_count": 19,
   "id": "4d598c12-3502-431e-94ce-dccfd6cc52f8",
   "metadata": {},
   "outputs": [
    {
     "name": "stdout",
     "output_type": "stream",
     "text": [
      "Reversed list: [50, 40, 30, 20, 10]\n"
     ]
    }
   ],
   "source": [
    "# Example list\n",
    "my_list = [10, 20, 30, 40, 50]\n",
    "\n",
    "# Reverse the order of elements in the list\n",
    "l1 = my_list[::-1]\n",
    "\n",
    "# Print the reversed list\n",
    "print(\"Reversed list:\", l1)"
   ]
  },
  {
   "cell_type": "code",
   "execution_count": 20,
   "id": "37351013-cd58-461e-b5e2-4efa44a51980",
   "metadata": {},
   "outputs": [
    {
     "name": "stdout",
     "output_type": "stream",
     "text": [
      "Reversed list: [50, 40, 30, 20, 10]\n"
     ]
    }
   ],
   "source": [
    "\n",
    "my_list = [10, 20, 30, 40, 50]\n",
    "my_list.reverse()\n",
    "print(\"Reversed list:\", my_list)"
   ]
  },
  {
   "cell_type": "code",
   "execution_count": 21,
   "id": "e7761d22-73de-4fed-9c3a-9bdebb7736cd",
   "metadata": {},
   "outputs": [
    {
     "name": "stdout",
     "output_type": "stream",
     "text": [
      "Sorted list in ascending order: [10, 20, 30, 40, 50]\n"
     ]
    }
   ],
   "source": [
    "my_list = [50, 10, 30, 40, 20]\n",
    "my_list.sort()\n",
    "print(\"Sorted list in ascending order:\", my_list)"
   ]
  },
  {
   "cell_type": "code",
   "execution_count": 23,
   "id": "7d98a78e-5678-4e5d-9559-bfbdaedafcbb",
   "metadata": {},
   "outputs": [
    {
     "name": "stdout",
     "output_type": "stream",
     "text": [
      "Sorted list in descending order: [50, 40, 30, 20, 10]\n"
     ]
    }
   ],
   "source": [
    "my_list = [50, 10, 30, 40, 20]\n",
    "my_list.sort(reverse=True)\n",
    "print(\"Sorted list in descending order:\", my_list)"
   ]
  },
  {
   "cell_type": "code",
   "execution_count": 24,
   "id": "b5ab2301-7ec2-4b44-a403-ee8c20f5a349",
   "metadata": {},
   "outputs": [
    {
     "name": "stdout",
     "output_type": "stream",
     "text": [
      "List of even numbers: [2, 4, 6, 8, 10, 12, 14, 16, 18, 20]\n"
     ]
    }
   ],
   "source": [
    "even_numbers = [x for x in range(2, 21, 2)]\n",
    "print(\"List of even numbers:\", even_numbers)"
   ]
  },
  {
   "cell_type": "code",
   "execution_count": 25,
   "id": "45102bbd-2d02-40dd-ad06-274b1a9dfa58",
   "metadata": {},
   "outputs": [
    {
     "name": "stdout",
     "output_type": "stream",
     "text": [
      "List of even numbers: [1, 3, 5, 7, 9, 11, 13, 15, 17, 19]\n"
     ]
    }
   ],
   "source": [
    "odd_numbers = [x for x in range(1, 20, 2)]\n",
    "print(\"List of even numbers:\", odd_numbers)"
   ]
  },
  {
   "cell_type": "code",
   "execution_count": 26,
   "id": "42e26d65-38a7-4af9-8b0a-84592edb914f",
   "metadata": {},
   "outputs": [
    {
     "name": "stdout",
     "output_type": "stream",
     "text": [
      "Sum of elements: 150\n"
     ]
    }
   ],
   "source": [
    "my_list = [10, 20, 30, 40, 50]\n",
    "total_sum = sum(my_list)\n",
    "print(\"Sum of elements:\", total_sum)"
   ]
  },
  {
   "cell_type": "code",
   "execution_count": 27,
   "id": "19cabb3b-9a44-49e5-bc35-d3edbb4565bf",
   "metadata": {},
   "outputs": [
    {
     "name": "stdout",
     "output_type": "stream",
     "text": [
      "Maximum value: 50\n"
     ]
    }
   ],
   "source": [
    "my_list = [10, 20, 30, 40, 50]\n",
    "max_value = max(my_list)\n",
    "print(\"Maximum value:\", max_value)"
   ]
  },
  {
   "cell_type": "code",
   "execution_count": 28,
   "id": "9b649000-7ffe-48c7-8578-4a43242a28db",
   "metadata": {},
   "outputs": [
    {
     "name": "stdout",
     "output_type": "stream",
     "text": [
      "Maximum value: 10\n"
     ]
    }
   ],
   "source": [
    "my_list = [10, 20, 30, 40, 50]\n",
    "min_value = min(my_list)\n",
    "print(\"Maximum value:\", min_value)"
   ]
  },
  {
   "cell_type": "code",
   "execution_count": 29,
   "id": "34e79095-4508-4887-8f7f-fc6a5a2b56e3",
   "metadata": {},
   "outputs": [
    {
     "name": "stdout",
     "output_type": "stream",
     "text": [
      "List of squares: [1, 4, 9, 16, 25, 36, 49, 64, 81, 100]\n"
     ]
    }
   ],
   "source": [
    "squares = [x ** 2 for x in range(1, 11)]\n",
    "print(\"List of squares:\", squares)"
   ]
  },
  {
   "cell_type": "code",
   "execution_count": 30,
   "id": "007bb3d0-efd7-475b-8736-03c99c93d284",
   "metadata": {},
   "outputs": [
    {
     "name": "stdout",
     "output_type": "stream",
     "text": [
      "List of random integers: [1, 3, 6, 10, 4, 1, 9, 10, 8, 9]\n"
     ]
    }
   ],
   "source": [
    "import random\n",
    "random_integers = [random.randint(1, 10) for _ in range(10)]\n",
    "print(\"List of random integers:\", random_integers)"
   ]
  },
  {
   "cell_type": "code",
   "execution_count": 32,
   "id": "9e2c041b-8502-4a0a-9976-caaaa84339f0",
   "metadata": {},
   "outputs": [
    {
     "name": "stdout",
     "output_type": "stream",
     "text": [
      "List without duplicates: [40, 10, 50, 20, 30]\n"
     ]
    }
   ],
   "source": [
    "\n",
    "my_list = [10, 20, 30, 20, 40, 10, 50, 30]\n",
    "unique_list = list(set(my_list))\n",
    "print(\"List without duplicates:\", unique_list)"
   ]
  },
  {
   "cell_type": "code",
   "execution_count": 33,
   "id": "76c2e879-8986-4dd7-869e-20f3705cce8e",
   "metadata": {},
   "outputs": [
    {
     "name": "stdout",
     "output_type": "stream",
     "text": [
      "The common elements in the two lists are: \n",
      "[5]\n"
     ]
    }
   ],
   "source": [
    "def common_member(a, b):\n",
    "    result = [i for i in a if i in b]\n",
    "    return result\n",
    " \n",
    "a = [1, 2, 3, 4, 5]\n",
    "b = [5, 6, 7, 8, 9]\n",
    " \n",
    "print(\"The common elements in the two lists are: \")\n",
    "print(common_member(a, b))"
   ]
  },
  {
   "cell_type": "code",
   "execution_count": 34,
   "id": "d5727def-3c44-4d3b-81ec-f0a8d0296ac3",
   "metadata": {},
   "outputs": [
    {
     "name": "stdout",
     "output_type": "stream",
     "text": [
      "Difference between lists: [20, 10]\n"
     ]
    }
   ],
   "source": [
    "\n",
    "list1 = [10, 20, 30, 40, 50]\n",
    "list2 = [30, 40, 50, 60, 70]\n",
    "difference = list(set(list1).difference(list2))\n",
    "print(\"Difference between lists:\", difference)"
   ]
  },
  {
   "cell_type": "code",
   "execution_count": 35,
   "id": "8dc2e9f1-03bb-4b7a-8649-1215c62c7961",
   "metadata": {},
   "outputs": [
    {
     "name": "stdout",
     "output_type": "stream",
     "text": [
      "Merged list: [10, 20, 30, 40, 50, 60]\n"
     ]
    }
   ],
   "source": [
    "list1 = [10, 20, 30]\n",
    "list2 = [40, 50, 60]\n",
    "merged_list = list1 + list2\n",
    "print(\"Merged list:\", merged_list)"
   ]
  },
  {
   "cell_type": "code",
   "execution_count": 36,
   "id": "1cba106a-3db1-43c2-a371-d7aa14bc29a0",
   "metadata": {},
   "outputs": [
    {
     "name": "stdout",
     "output_type": "stream",
     "text": [
      "Multiplied list: [20, 40, 60, 80, 100]\n"
     ]
    }
   ],
   "source": [
    "# Example list\n",
    "my_list = [10, 20, 30, 40, 50]\n",
    "multiplied_list = [i * 2 for i in my_list]\n",
    "print(\"Multiplied list:\", multiplied_list)"
   ]
  },
  {
   "cell_type": "code",
   "execution_count": 37,
   "id": "d22223b3-b5f4-4d50-b64d-a4ae554a111f",
   "metadata": {},
   "outputs": [
    {
     "name": "stdout",
     "output_type": "stream",
     "text": [
      "[2, 4]\n"
     ]
    }
   ],
   "source": [
    "\n",
    "lis = [1, 2, 3, 4, 5]\n",
    "out = []\n",
    " \n",
    "for num in lis:\n",
    "    if num % 2 == 0:\n",
    "        out.append(num)\n",
    "print(out)"
   ]
  },
  {
   "cell_type": "code",
   "execution_count": 38,
   "id": "8580e770-75d6-4125-bb1f-5fc17565609b",
   "metadata": {},
   "outputs": [
    {
     "name": "stdout",
     "output_type": "stream",
     "text": [
      "List of integers: [10, 20, 30]\n"
     ]
    }
   ],
   "source": [
    "string_list = [\"10\", \"20\", \"30\", ]\n",
    "integer_list = [int(x) for x in string_list]\n",
    "print(\"List of integers:\", integer_list)"
   ]
  },
  {
   "cell_type": "code",
   "execution_count": 41,
   "id": "02e59ba8-e590-424a-8f47-a3256d95997d",
   "metadata": {},
   "outputs": [
    {
     "name": "stdout",
     "output_type": "stream",
     "text": [
      "List of strings: ['10', '20', '30', '40', '50']\n"
     ]
    }
   ],
   "source": [
    "integer_list = [10, 20, 30, 40, 50]\n",
    "string_list = [str(x) for x in integer_list]\n",
    "print(\"List of strings:\", string_list)"
   ]
  },
  {
   "cell_type": "code",
   "execution_count": 42,
   "id": "311cd46b-4828-43a6-87d0-0c9a4e5b1374",
   "metadata": {},
   "outputs": [
    {
     "name": "stdout",
     "output_type": "stream",
     "text": [
      "Flattened list: [1, 2, 3, 4, 5, 6, 7, 8, 9]\n"
     ]
    }
   ],
   "source": [
    "nested_list = [[1, 2, 3], [4, 5], [6, 7, 8, 9]]\n",
    "\n",
    "# Function to flatten a nested list\n",
    "def flatten_list(nested):\n",
    "    flattened = []\n",
    "    for sublist in nested:\n",
    "        if isinstance(sublist, list):\n",
    "            flattened.extend(flatten_list(sublist))\n",
    "        else:\n",
    "            flattened.append(sublist)\n",
    "    return flattened\n",
    "\n",
    "# Flatten the nested list\n",
    "flattened_list = flatten_list(nested_list)\n",
    "\n",
    "# Print the flattened list\n",
    "print(\"Flattened list:\", flattened_list)"
   ]
  },
  {
   "cell_type": "code",
   "execution_count": 43,
   "id": "09fe1139-47f6-4710-8007-8f201a59b8ff",
   "metadata": {},
   "outputs": [
    {
     "name": "stdout",
     "output_type": "stream",
     "text": [
      "[0, 1, 1, 2, 3]\n"
     ]
    }
   ],
   "source": [
    "def generate_fibonacci(n):\n",
    "    fibonacci = [0, 1] \n",
    "    while len(fibonacci) < n: \n",
    "        next_number = fibonacci[-1] + fibonacci[-2]  \n",
    "        fibonacci.append(next_number) \n",
    "    return (fibonacci) \n",
    "fibonacci_list = generate_fibonacci(5)\n",
    "print(fibonacci_list)"
   ]
  },
  {
   "cell_type": "code",
   "execution_count": 5,
   "id": "1c433aaf-ca57-424d-835e-7e421d38eddc",
   "metadata": {},
   "outputs": [
    {
     "name": "stdout",
     "output_type": "stream",
     "text": [
      "The list is sorted in ascending order.\n"
     ]
    }
   ],
   "source": [
    "def is_sorted_ascending(lst):\n",
    "    for i in range(1, len(lst)):\n",
    "        if lst[i] < lst[i - 1]:\n",
    "            return False\n",
    "    return True\n",
    "ascending_list = [10, 20, 30, 40, 50]\n",
    "if is_sorted_ascending(ascending_list):\n",
    "    print(\"The list is sorted in ascending order.\")\n",
    "else:\n",
    "    print(\"The list is not sorted in ascending order.\")"
   ]
  },
  {
   "cell_type": "code",
   "execution_count": 4,
   "id": "fa139457-ab19-479e-9998-182b37459439",
   "metadata": {},
   "outputs": [
    {
     "name": "stdout",
     "output_type": "stream",
     "text": [
      "Rotated list: [3, 4, 5, 6, 1, 2]\n"
     ]
    }
   ],
   "source": [
    "def rotate_left(lst, n):\n",
    "    n = n % len(lst)  \n",
    "    rotate_left = lst[n:] + lst[:n]\n",
    "    return rotate_left\n",
    "my_list = [1, 2, 3, 4, 5, 6]\n",
    "n = 2\n",
    "rotated_list = rotate_left(my_list, n)\n",
    "print(\"Rotated list:\", rotated_list)"
   ]
  },
  {
   "cell_type": "code",
   "execution_count": 6,
   "id": "111ae08f-3a0c-401d-9b2e-1b67d1ed1c99",
   "metadata": {},
   "outputs": [
    {
     "name": "stdout",
     "output_type": "stream",
     "text": [
      "Rotated list: [5, 6, 1, 2, 3, 4]\n"
     ]
    }
   ],
   "source": [
    "def rotate_right(lst, n):\n",
    "    n = n % len(lst)  \n",
    "    rotate_right = lst[-n:] + lst[:-n]\n",
    "    return rotate_right\n",
    "my_list = [1, 2, 3, 4, 5, 6]\n",
    "n = 2\n",
    "rotated_list = rotate_right(my_list, n)\n",
    "print(\"Rotated list:\", rotated_list)"
   ]
  },
  {
   "cell_type": "code",
   "execution_count": 3,
   "id": "384febfe-9c6b-409c-bb5c-0078f90f2e8d",
   "metadata": {},
   "outputs": [
    {
     "name": "stdout",
     "output_type": "stream",
     "text": [
      "5 25\n",
      "5 29\n",
      "5 31\n",
      "5 35\n",
      "5 37\n",
      "5 41\n",
      "5 43\n",
      "5 47\n",
      "5 49\n",
      "List of prime numbers up to 50: [2, 3, 5, 7, 11, 13, 17, 19, 23, 29, 31, 37, 41, 43, 47]\n"
     ]
    }
   ],
   "source": [
    "def is_prime(num):\n",
    "    if num <= 1:\n",
    "        return False\n",
    "    if num <= 3:\n",
    "        return True\n",
    "    if num % 2 == 0 or num % 3 == 0:\n",
    "        return False\n",
    "    i = 5\n",
    "    while i * i <= num:\n",
    "      print(i,num)\n",
    "      if num % i == 0 or num % (i + 2) == 0:\n",
    "          return False\n",
    "      i += 6\n",
    "    return True\n",
    "\n",
    "# Create a list of prime numbers up to 50\n",
    "prime_numbers = [num for num in range(2,50) if is_prime(num)]\n",
    "\n",
    "# Print the list of prime numbers\n",
    "print(\"List of prime numbers up to 50:\", prime_numbers)"
   ]
  },
  {
   "cell_type": "code",
   "execution_count": 6,
   "id": "260348f3-96df-453e-9fbe-9076fa23673d",
   "metadata": {},
   "outputs": [
    {
     "name": "stdout",
     "output_type": "stream",
     "text": [
      "Second largest number: 25\n"
     ]
    }
   ],
   "source": [
    "\n",
    "my_list = [10, 5, 20, 15, 30, 25]\n",
    "sorted_list = sorted(set(my_list))\n",
    "if len(sorted_list) >= 2:\n",
    "    second_largest = sorted_list[-2]\n",
    "    print(\"Second largest number:\", second_largest)\n",
    "else:\n",
    "    print(\"The list does not contain enough elements.\")"
   ]
  },
  {
   "cell_type": "code",
   "execution_count": 7,
   "id": "64bc66ac-a90c-4762-8dfd-a1ff39113418",
   "metadata": {},
   "outputs": [
    {
     "name": "stdout",
     "output_type": "stream",
     "text": [
      "Squared list: [4, 16, 36, 64, 100]\n"
     ]
    }
   ],
   "source": [
    "my_list = [2, 4, 6, 8, 10]\n",
    "squared_list = [x ** 2 for x in my_list]\n",
    "print(\"Squared list:\", squared_list)"
   ]
  },
  {
   "cell_type": "code",
   "execution_count": 9,
   "id": "5e7db812-e9e8-4d98-b3b4-eb36d701dca6",
   "metadata": {},
   "outputs": [
    {
     "name": "stdout",
     "output_type": "stream",
     "text": [
      "Converted dictionary: {'apple': 0, 'banana': 1, 'cherry': 2, 'date': 3, 'elderberry': 4}\n"
     ]
    }
   ],
   "source": [
    "my_list = ['apple', 'banana', 'cherry', 'date', 'elderberry']\n",
    "\n",
    "my_dict = {element: index for index, element in enumerate(my_list)}\n",
    "print(\"Converted dictionary:\", my_dict)"
   ]
  },
  {
   "cell_type": "code",
   "execution_count": 11,
   "id": "42967795-4e23-4874-8a8a-fac63b5c78d8",
   "metadata": {},
   "outputs": [
    {
     "name": "stdout",
     "output_type": "stream",
     "text": [
      "Shuffled list: [1, 6, 8, 9, 2, 3, 4, 5, 7, 10]\n"
     ]
    }
   ],
   "source": [
    "import random\n",
    "my_list = [1, 2, 3, 4, 5, 6, 7, 8, 9, 10]\n",
    "random.shuffle(my_list)\n",
    "print(\"Shuffled list:\", my_list)"
   ]
  },
  {
   "cell_type": "code",
   "execution_count": 1,
   "id": "72e41f87-6da3-4cd8-b66f-9a3c38f77702",
   "metadata": {},
   "outputs": [
    {
     "name": "stdout",
     "output_type": "stream",
     "text": [
      "List of the first 10 factorial numbers: [1, 1, 2, 6, 24, 120, 720, 5040, 40320, 362880]\n"
     ]
    }
   ],
   "source": [
    "def factorial(n):\n",
    "    if n == 0 or n == 1:\n",
    "        return 1\n",
    "    else:\n",
    "        fact = n * factorial(n - 1)\n",
    "    return fact\n",
    "factorial_numbers = [factorial(i) for i in range(10)]\n",
    "print(\"List of the first 10 factorial numbers:\", factorial_numbers)"
   ]
  },
  {
   "cell_type": "code",
   "execution_count": 2,
   "id": "637bccfe-f10b-44f4-8c8b-e24780df79de",
   "metadata": {},
   "outputs": [
    {
     "name": "stdout",
     "output_type": "stream",
     "text": [
      "The lists have at least one common element.\n"
     ]
    }
   ],
   "source": [
    "def has_common_element(list1, list2):\n",
    "    for item in list1:\n",
    "        if item in list2:\n",
    "            return True\n",
    "    return False\n",
    "list1 = [1, 2, 3, 4, 5]\n",
    "list2 = [4, 5, 6, 7, 8]\n",
    "if has_common_element(list1, list2):\n",
    "    print(\"The lists have at least one common element.\")\n",
    "else:\n",
    "    print(\"The lists do not have any common elements.\")"
   ]
  },
  {
   "cell_type": "code",
   "execution_count": 3,
   "id": "f511988d-c838-4bae-a4d1-455803433252",
   "metadata": {},
   "outputs": [
    {
     "name": "stdout",
     "output_type": "stream",
     "text": [
      "Empty list: []\n"
     ]
    }
   ],
   "source": [
    "my_list = [1, 2, 3, 4, 5]\n",
    "my_list.clear()\n",
    "print(\"Empty list:\", my_list)"
   ]
  },
  {
   "cell_type": "code",
   "execution_count": 4,
   "id": "96445845-1c56-4488-85b2-8b807aeea89b",
   "metadata": {},
   "outputs": [
    {
     "name": "stdout",
     "output_type": "stream",
     "text": [
      "List after replacing negative numbers with 0: [10, 0, 20, 0, 30, 0]\n"
     ]
    }
   ],
   "source": [
    "my_list = [10, -5, 20, -15, 30, -25]\n",
    "for i in range(len(my_list)):\n",
    "    if my_list[i] < 0:\n",
    "        my_list[i] = 0\n",
    "print(\"List after replacing negative numbers with 0:\", my_list)"
   ]
  },
  {
   "cell_type": "code",
   "execution_count": 5,
   "id": "c53531e4-fd0c-4e95-af1d-915ac856473d",
   "metadata": {},
   "outputs": [
    {
     "name": "stdout",
     "output_type": "stream",
     "text": [
      "List of words: ['Hello,', 'this', 'is', 'a', 'sample', 'sentence.']\n"
     ]
    }
   ],
   "source": [
    "my_string = \"Hello, this is a sample sentence.\"\n",
    "word_list = my_string.split()\n",
    "print(\"List of words:\", word_list)"
   ]
  },
  {
   "cell_type": "code",
   "execution_count": 6,
   "id": "863fc729-b6b0-4f13-91d6-324f852fb6af",
   "metadata": {},
   "outputs": [
    {
     "name": "stdout",
     "output_type": "stream",
     "text": [
      "Converted string: Hello, this is a sample sentence.\n"
     ]
    }
   ],
   "source": [
    "word_list = [\"Hello,\", \"this\", \"is\", \"a\", \"sample\", \"sentence.\"]\n",
    "\n",
    "# Convert the list of words into a string\n",
    "my_string = \" \".join(word_list)\n",
    "\n",
    "# Print the resulting string\n",
    "print(\"Converted string:\", my_string)"
   ]
  },
  {
   "cell_type": "code",
   "execution_count": 7,
   "id": "b5d66cd0-a0d4-40f9-b65b-db249f9d9532",
   "metadata": {},
   "outputs": [
    {
     "name": "stdout",
     "output_type": "stream",
     "text": [
      "List of the first 5 powers of 2: [1, 2, 4, 8, 16]\n"
     ]
    }
   ],
   "source": [
    "n = 5\n",
    "power_list = [2 ** i for i in range(n)]\n",
    "print(\"List of the first\", n, \"powers of 2:\", power_list)"
   ]
  },
  {
   "cell_type": "code",
   "execution_count": 8,
   "id": "64b93b41-672c-4b40-b30e-046bcac2bdc7",
   "metadata": {},
   "outputs": [
    {
     "name": "stdout",
     "output_type": "stream",
     "text": [
      "Longest string: elderberry\n"
     ]
    }
   ],
   "source": [
    "string_list = [\"apple\", \"banana\", \"cherry\", \"date\", \"elderberry\"]\n",
    "longest_string = \"\"\n",
    "for s in string_list:\n",
    "    if len(s) > len(longest_string):\n",
    "        longest_string = s\n",
    "print(\"Longest string:\", longest_string)"
   ]
  },
  {
   "cell_type": "code",
   "execution_count": 9,
   "id": "59da7391-cb2c-4720-8e2e-492c1176743d",
   "metadata": {},
   "outputs": [
    {
     "name": "stdout",
     "output_type": "stream",
     "text": [
      "Shortest string: date\n"
     ]
    }
   ],
   "source": [
    "string_list = [\"apple\", \"banana\", \"cherry\", \"date\", \"elderberry\"]\n",
    "shortest_string = string_list[0] \n",
    "for s in string_list:\n",
    "    if len(s) < len(shortest_string):\n",
    "        shortest_string = s\n",
    "print(\"Shortest string:\", shortest_string)"
   ]
  },
  {
   "cell_type": "code",
   "execution_count": 10,
   "id": "d18e142e-46df-44c5-b4ca-69f36e081aba",
   "metadata": {},
   "outputs": [
    {
     "name": "stdout",
     "output_type": "stream",
     "text": [
      "List of the first 5 triangular numbers: [1, 3, 6, 10, 15]\n"
     ]
    }
   ],
   "source": [
    "def triangular_numbers(n):\n",
    "    return [i * (i + 1) // 2 for i in range(1, n + 1)]\n",
    "n = 5\n",
    "triangular_list = triangular_numbers(n)\n",
    "print(\"List of the first\", n, \"triangular numbers:\", triangular_list)"
   ]
  },
  {
   "cell_type": "code",
   "execution_count": 11,
   "id": "a0bebaaf-8d34-4eb5-a855-35c107cc8ded",
   "metadata": {},
   "outputs": [
    {
     "name": "stdout",
     "output_type": "stream",
     "text": [
      "Main list contains the subsequence.\n"
     ]
    }
   ],
   "source": [
    "# Function to check if a list contains another list as a subsequence\n",
    "def is_subsequence(subsequence, main_list):\n",
    "    subseq_index = 0  # Index for the subsequence elements\n",
    "    for element in main_list:\n",
    "        if element == subsequence[subseq_index]:\n",
    "            subseq_index += 1\n",
    "            if subseq_index == len(subsequence):\n",
    "                return True\n",
    "    return False\n",
    "\n",
    "# Example main list and subsequence\n",
    "main_list = [1, 2, 3, 4, 5, 6, 7, 8, 9, 10]\n",
    "subsequence = [3, 5, 8]\n",
    "\n",
    "# Check if the main list contains the subsequence\n",
    "if is_subsequence(subsequence, main_list):\n",
    "    print(\"Main list contains the subsequence.\")\n",
    "else:\n",
    "    print(\"Main list does not contain the subsequence.\")"
   ]
  },
  {
   "cell_type": "code",
   "execution_count": 12,
   "id": "51d23ec1-66f6-4143-9f23-0e22a989bec2",
   "metadata": {},
   "outputs": [
    {
     "name": "stdout",
     "output_type": "stream",
     "text": [
      "List after swapping elements: [1, 4, 3, 2, 5]\n"
     ]
    }
   ],
   "source": [
    "\n",
    "my_list = [1, 2, 3, 4, 5]\n",
    "index1 = 1\n",
    "index2 = 3\n",
    "temp = my_list[index1]\n",
    "my_list[index1] = my_list[index2]\n",
    "my_list[index2] = temp\n",
    "print(\"List after swapping elements:\", my_list)"
   ]
  },
  {
   "cell_type": "code",
   "execution_count": 1,
   "id": "adc0f469-65b3-4ceb-8bae-23c4b2b35c68",
   "metadata": {},
   "outputs": [],
   "source": [
    "#set\n"
   ]
  },
  {
   "cell_type": "code",
   "execution_count": 2,
   "id": "8ed4c5f0-85d4-4dc5-b8e2-b4619c1ea5fb",
   "metadata": {},
   "outputs": [
    {
     "name": "stdout",
     "output_type": "stream",
     "text": [
      "{1, 2, 3, 4, 5}\n"
     ]
    }
   ],
   "source": [
    "my_set = set()\n",
    "my_set.add(1)\n",
    "my_set.add(2)\n",
    "my_set.add(3)\n",
    "my_set.add(4)\n",
    "my_set.add(5)\n",
    "print(my_set)"
   ]
  },
  {
   "cell_type": "code",
   "execution_count": 3,
   "id": "e565a4e3-237f-4860-811f-ffb6f5a9d917",
   "metadata": {},
   "outputs": [
    {
     "name": "stdout",
     "output_type": "stream",
     "text": [
      "Original set: {1, 2, 3, 4, 5}\n",
      "Set after adding element: {1, 2, 3, 4, 5, 6}\n"
     ]
    }
   ],
   "source": [
    "my_set = {1, 2, 3, 4, 5}\n",
    "print(\"Original set:\", my_set)\n",
    "element_to_add = 6\n",
    "my_set.add(element_to_add)\n",
    "print(\"Set after adding element:\", my_set)"
   ]
  },
  {
   "cell_type": "code",
   "execution_count": 5,
   "id": "e76b8b65-10f2-4237-9df6-666acb0f23d0",
   "metadata": {},
   "outputs": [
    {
     "name": "stdout",
     "output_type": "stream",
     "text": [
      "Original set: {1, 2, 3, 4, 5}\n",
      "Set after removing element: {1, 2, 3, 4}\n"
     ]
    }
   ],
   "source": [
    "my_set = {1, 2, 3, 4, 5}\n",
    "print(\"Original set:\", my_set)\n",
    "element_to_remove= 5\n",
    "my_set.remove(element_to_remove)\n",
    "print(\"Set after removing element:\", my_set)"
   ]
  },
  {
   "cell_type": "code",
   "execution_count": 6,
   "id": "181aac56-fd3a-42e5-b3da-7a3e0a6c61fa",
   "metadata": {},
   "outputs": [
    {
     "name": "stdin",
     "output_type": "stream",
     "text": [
      "Enter the element to check:  5\n"
     ]
    },
    {
     "name": "stdout",
     "output_type": "stream",
     "text": [
      "5 exists in the set.\n"
     ]
    }
   ],
   "source": [
    "\n",
    "my_set = {1, 3, 5, 7, 9}\n",
    "element_to_check = int(input(\"Enter the element to check: \"))\n",
    "if element_to_check in my_set:\n",
    " \n",
    "    print(f\"{element_to_check} exists in the set.\")\n",
    "else:\n",
    "    print(f\"{element_to_check} does not exist in the set.\")"
   ]
  },
  {
   "cell_type": "code",
   "execution_count": 7,
   "id": "bbfe20b7-62dc-4b65-8b3e-85bb1a8e5fa4",
   "metadata": {},
   "outputs": [
    {
     "name": "stdout",
     "output_type": "stream",
     "text": [
      "Length of the set: 5\n"
     ]
    }
   ],
   "source": [
    "# Create a set with some elements\n",
    "my_set = {1, 2, 3, 4, 5}\n",
    "count = 0\n",
    "for _ in my_set:\n",
    "    count += 1\n",
    "print(\"Length of the set:\", count)"
   ]
  },
  {
   "cell_type": "code",
   "execution_count": 3,
   "id": "2edece96-602a-4e8d-bd3f-5e87d85f1efb",
   "metadata": {},
   "outputs": [
    {
     "name": "stdout",
     "output_type": "stream",
     "text": [
      "Original set: {1, 2, 3, 4, 5}\n",
      "Set after clearing: set()\n"
     ]
    }
   ],
   "source": [
    "my_set = {1, 2, 3, 4, 5}\n",
    "\n",
    "# Step 2: Display the original set\n",
    "print(\"Original set:\", my_set)\n",
    "\n",
    "# Step 3: Clear all elements from the set using the clear() method\n",
    "my_set.clear()\n",
    "\n",
    "# Step 4: Display the set after clearing\n",
    "print(\"Set after clearing:\", my_set)"
   ]
  },
  {
   "cell_type": "code",
   "execution_count": 4,
   "id": "cf5297f5-8adb-4326-b899-f4c1ff5bf9ae",
   "metadata": {},
   "outputs": [
    {
     "name": "stdout",
     "output_type": "stream",
     "text": [
      "{2, 4, 6, 8, 10}\n"
     ]
    }
   ],
   "source": [
    "even_numbers_set = set()\n",
    "\n",
    "# Step 2: Iterate through numbers from 1 to 10\n",
    "for num in range(1, 11):\n",
    "    # Step 3: Check if the number is even\n",
    "    if num % 2 == 0:\n",
    "        even_numbers_set.add(num)\n",
    "print(even_numbers_set)"
   ]
  },
  {
   "cell_type": "code",
   "execution_count": 8,
   "id": "5e7a4715-a6b5-4393-9ee8-549c4e64a095",
   "metadata": {},
   "outputs": [
    {
     "name": "stdout",
     "output_type": "stream",
     "text": [
      "{1, 3, 5, 7, 9}\n"
     ]
    }
   ],
   "source": [
    "odd_numbers_set = set()\n",
    "for num in range(1, 11):\n",
    "    if num % 2 != 0:\n",
    "        odd_numbers_set.add(num)\n",
    "print(odd_numbers_set)"
   ]
  },
  {
   "cell_type": "code",
   "execution_count": 9,
   "id": "75b5db87-3bf3-4a55-9362-bd707144e7c5",
   "metadata": {},
   "outputs": [
    {
     "name": "stdout",
     "output_type": "stream",
     "text": [
      "Union of Set 1 and Set 2: {1, 2, 3, 4, 5, 6, 7, 8}\n"
     ]
    }
   ],
   "source": [
    "# Define two sets\n",
    "set1 = {1, 2, 3, 4, 5}\n",
    "set2 = {4, 5, 6, 7, 8}\n",
    "union_result = set1.union(set2)\n",
    "\n",
    "print(\"Union of Set 1 and Set 2:\", union_result)"
   ]
  },
  {
   "cell_type": "code",
   "execution_count": 10,
   "id": "14e4ad21-1108-4790-9ed8-2d0925188727",
   "metadata": {},
   "outputs": [
    {
     "name": "stdout",
     "output_type": "stream",
     "text": [
      "Union of Set 1 and Set 2: {4, 5}\n"
     ]
    }
   ],
   "source": [
    "set1 = {1, 2, 3, 4, 5}\n",
    "set2 = {4, 5, 6, 7, 8}\n",
    "intersection_result = set1.intersection(set2)\n",
    "\n",
    "print(\"Union of Set 1 and Set 2:\", intersection_result)"
   ]
  },
  {
   "cell_type": "code",
   "execution_count": 11,
   "id": "ee91cf08-06ba-4efe-ab80-75ae0741d9fd",
   "metadata": {},
   "outputs": [
    {
     "name": "stdout",
     "output_type": "stream",
     "text": [
      "Union of Set 1 and Set 2: {1, 2, 3}\n"
     ]
    }
   ],
   "source": [
    "set1 = {1, 2, 3, 4, 5}\n",
    "set2 = {4, 5, 6, 7, 8}\n",
    "difference_result = set1.difference(set2)\n",
    "\n",
    "print(\"Union of Set 1 and Set 2:\", difference_result)"
   ]
  },
  {
   "cell_type": "code",
   "execution_count": 12,
   "id": "39b0c01d-6c50-45fb-80b5-ecb808877fc7",
   "metadata": {},
   "outputs": [
    {
     "name": "stdout",
     "output_type": "stream",
     "text": [
      "Is set1 a subset of set2: True\n"
     ]
    }
   ],
   "source": [
    "set1 = {1, 2, 3}\n",
    "set2 = {1, 2, 3, 4, 5}\n",
    "is_subset = set1.issubset(set2)\n",
    "print(\"Is set1 a subset of set2:\", is_subset)"
   ]
  },
  {
   "cell_type": "code",
   "execution_count": 13,
   "id": "b40bf87f-8d9d-4558-9eb6-cf8046e53e80",
   "metadata": {},
   "outputs": [
    {
     "name": "stdout",
     "output_type": "stream",
     "text": [
      "Is set1 a subset of set2: True\n"
     ]
    }
   ],
   "source": [
    "set1 = {1, 2, 3}\n",
    "set2 = {1, 2, 3, 4, 5}\n",
    "is_superset = set2.issuperset(set2)\n",
    "print(\"Is set1 a subset of set2:\", is_superset)"
   ]
  },
  {
   "cell_type": "code",
   "execution_count": 14,
   "id": "fd1b9965-4a6a-40a2-8467-c1a471413993",
   "metadata": {},
   "outputs": [
    {
     "name": "stdout",
     "output_type": "stream",
     "text": [
      "Original List: [2, 4, 1, 4, 3, 2, 5]\n",
      "Set from List: {1, 2, 3, 4, 5}\n"
     ]
    }
   ],
   "source": [
    "my_list = [2, 4, 1, 4, 3, 2, 5]\n",
    "my_set = set(my_list)\n",
    "print(\"Original List:\", my_list)\n",
    "print(\"Set from List:\", my_set)"
   ]
  },
  {
   "cell_type": "code",
   "execution_count": 17,
   "id": "c918be0b-bf5e-49c6-984d-7f7182d9787e",
   "metadata": {},
   "outputs": [
    {
     "name": "stdout",
     "output_type": "stream",
     "text": [
      "Original Set: {1, 2, 3, 4, 5, 6, 9}\n",
      "Converted List: [1, 2, 3, 4, 5, 6, 9]\n"
     ]
    }
   ],
   "source": [
    "# Step 1: Create a set with some elements\n",
    "my_set = {3, 1, 4, 1, 5, 9, 2, 6, 5}\n",
    "\n",
    "# Step 2: Convert the set to a list using the list() function\n",
    "my_list = list(my_set)\n",
    "\n",
    "# Now, my_list contains the elements from my_set in list format\n",
    "\n",
    "# Step 3: Print the original set and the converted list\n",
    "print(\"Original Set:\", my_set)\n",
    "print(\"Converted List:\", my_list)"
   ]
  },
  {
   "cell_type": "code",
   "execution_count": 18,
   "id": "1a3f2b85-4391-439e-bfcb-214e5d53cbe0",
   "metadata": {},
   "outputs": [
    {
     "name": "stdout",
     "output_type": "stream",
     "text": [
      "Original set: {1, 2, 3, 4, 5}\n",
      "Updated set after removing 4 : {1, 2, 3, 5}\n"
     ]
    }
   ],
   "source": [
    "import random \n",
    "my_set = {1, 2, 3, 4, 5}\n",
    "\n",
    "# Display the original set\n",
    "print(\"Original set:\", my_set)\n",
    "random_element = random.choice(list(my_set))\n",
    "my_set.remove(random_element)\n",
    "print(\"Updated set after removing\", random_element, \":\", my_set)"
   ]
  },
  {
   "cell_type": "code",
   "execution_count": 26,
   "id": "e4bd7aae-ee0f-4008-b41b-f7d043f3ebb2",
   "metadata": {},
   "outputs": [
    {
     "data": {
      "text/plain": [
       "{3, 5, 7}"
      ]
     },
     "execution_count": 26,
     "metadata": {},
     "output_type": "execute_result"
    }
   ],
   "source": [
    "my_set = {1,3,5,7}\n",
    "my_set.pop()\n",
    "\n",
    "my_set"
   ]
  },
  {
   "cell_type": "code",
   "execution_count": 27,
   "id": "c5b6efa0-6eee-4cc2-bb62-1fb4d0333cf0",
   "metadata": {},
   "outputs": [
    {
     "name": "stdout",
     "output_type": "stream",
     "text": [
      "The two sets have no elements in common.\n"
     ]
    }
   ],
   "source": [
    "set1 = {1, 2, 3, 4}\n",
    "set2 = {5, 6, 7, 8}\n",
    "common_elements = set1.intersection(set2)\n",
    "if not common_elements:\n",
    "    print(\"The two sets have no elements in common.\")\n",
    "else:\n",
    "    print(\"The two sets have common elements:\", common_elements)"
   ]
  },
  {
   "cell_type": "code",
   "execution_count": 28,
   "id": "106c2b42-e5b2-4bf6-b756-953c49401d5d",
   "metadata": {},
   "outputs": [
    {
     "name": "stdout",
     "output_type": "stream",
     "text": [
      "Symmetric Difference: {1, 2, 3, 6, 7, 8}\n"
     ]
    }
   ],
   "source": [
    "set1 = {1, 2, 3, 4, 5}\n",
    "set2 = {4, 5, 6, 7, 8}\n",
    "symmetric_difference = set1 ^ set2\n",
    "print(\"Symmetric Difference:\", symmetric_difference)"
   ]
  },
  {
   "cell_type": "code",
   "execution_count": 29,
   "id": "8022711b-5114-4960-a9f4-c0ad0e9cd638",
   "metadata": {},
   "outputs": [
    {
     "name": "stdout",
     "output_type": "stream",
     "text": [
      "Set 1: {1, 2, 3}\n",
      "Set 2: {3, 4, 5}\n",
      "Updated Set 1: {1, 2, 3, 4, 5}\n"
     ]
    }
   ],
   "source": [
    "\n",
    "set1 = {1, 2, 3}\n",
    "print(\"Set 1:\", set1)\n",
    "set2 = {3, 4, 5}\n",
    "print(\"Set 2:\", set2)\n",
    "set1.update(set2)\n",
    "print(\"Updated Set 1:\", set1)"
   ]
  },
  {
   "cell_type": "code",
   "execution_count": 30,
   "id": "2a01d45d-cc78-4485-9054-fc45891eda9b",
   "metadata": {},
   "outputs": [
    {
     "name": "stdout",
     "output_type": "stream",
     "text": [
      "Set of the first 5 prime numbers: {2, 3, 5, 7, 11}\n"
     ]
    }
   ],
   "source": [
    "\n",
    "def is_prime(num):\n",
    "    if num <= 1:\n",
    "        return False\n",
    "    for i in range(2, int(num ** 0.5) + 1):\n",
    "        if num % i == 0:\n",
    "            return False\n",
    "    return True\n",
    "prime_set = set()\n",
    "num = 2\n",
    "while len(prime_set) < 5:\n",
    "    if is_prime(num):\n",
    "\n",
    "        prime_set.add(num)\n",
    "    num += 1\n",
    "print(\"Set of the first 5 prime numbers:\", prime_set)"
   ]
  },
  {
   "cell_type": "code",
   "execution_count": 31,
   "id": "939a83ec-04a7-4102-a902-0bcbb1e098e6",
   "metadata": {},
   "outputs": [
    {
     "name": "stdout",
     "output_type": "stream",
     "text": [
      "The sets are identical.\n"
     ]
    }
   ],
   "source": [
    "set1 = {1, 2, 3, 4, 5}\n",
    "set2 = {3, 1, 5, 2, 4} \n",
    "if set1 == set2:\n",
    "    print(\"The sets are identical.\")\n",
    "else:\n",
    "    print(\"The sets are not identical.\")"
   ]
  },
  {
   "cell_type": "code",
   "execution_count": 32,
   "id": "73834bcf-c9f8-4e78-8f6d-1b41b05f7f39",
   "metadata": {},
   "outputs": [
    {
     "name": "stdout",
     "output_type": "stream",
     "text": [
      "Frozen Set: frozenset({1, 2, 3, 4, 5})\n"
     ]
    }
   ],
   "source": [
    "elements = [1, 2, 3, 4, 5]\n",
    "my_frozen_set = frozenset(elements)\n",
    "print(\"Frozen Set:\", my_frozen_set)"
   ]
  },
  {
   "cell_type": "code",
   "execution_count": 33,
   "id": "95934a62-0bc8-464c-93c2-f117c9109748",
   "metadata": {},
   "outputs": [
    {
     "name": "stdout",
     "output_type": "stream",
     "text": [
      "Are the sets disjoint? True\n"
     ]
    }
   ],
   "source": [
    "set1 = {1, 2, 3, 4}\n",
    "set2 = {5, 6, 7, 8}\n",
    "disjoint_status = set1.isdisjoint(set2)\n",
    "\n",
    "# Step 3: Print the result\n",
    "print(\"Are the sets disjoint?\", disjoint_status)"
   ]
  },
  {
   "cell_type": "code",
   "execution_count": 34,
   "id": "e8d0ba18-d08f-490f-9ed4-cda964642691",
   "metadata": {},
   "outputs": [
    {
     "name": "stdout",
     "output_type": "stream",
     "text": [
      "{1, 4, 9, 16, 25}\n"
     ]
    }
   ],
   "source": [
    "squares_set = set()\n",
    "\n",
    "# Step 2: Use a loop to iterate through numbers from 1 to 5\n",
    "for num in range(1, 6):\n",
    "    # Step 3: Calculate the square of the current number\n",
    "    square = num ** 2\n",
    "\n",
    "    # Step 4: Add the square to the set\n",
    "    squares_set.add(square)\n",
    "\n",
    "# Step 5: Print the set of squares\n",
    "print(squares_set)"
   ]
  },
  {
   "cell_type": "code",
   "execution_count": 35,
   "id": "bfef9aba-ec4b-4756-b830-be02df2d9c6b",
   "metadata": {},
   "outputs": [
    {
     "name": "stdout",
     "output_type": "stream",
     "text": [
      "Original Set: {1, 2, 3, 4, 5}\n",
      "Even Numbers Set: {2, 4}\n"
     ]
    }
   ],
   "source": [
    "original_set = {1, 2, 3, 4, 5}\n",
    "even_numbers_set = set()\n",
    "\n",
    "for num in original_set:\n",
    "\n",
    "    if num % 2 == 0:\n",
    "        even_numbers_set.add(num)\n",
    "print(\"Original Set:\", original_set)\n",
    "print(\"Even Numbers Set:\", even_numbers_set)"
   ]
  },
  {
   "cell_type": "code",
   "execution_count": 39,
   "id": "8cb1a193-f38d-4ad5-97c2-687a7d0b9d8f",
   "metadata": {},
   "outputs": [
    {
     "name": "stdout",
     "output_type": "stream",
     "text": [
      "Original Set: {1, 2, 3, 4, 5}\n",
      "Multiplied Set: {2, 4, 6, 8, 10}\n"
     ]
    }
   ],
   "source": [
    "original_set = {1, 2, 3, 4, 5}\n",
    "multiplied_set = set()\n",
    "for num in original_set:\n",
    "    multiplied_num = num * 2\n",
    "    multiplied_set.add(multiplied_num)\n",
    "\n",
    "print(\"Original Set:\", original_set)\n",
    "print(\"Multiplied Set:\", multiplied_set)"
   ]
  },
  {
   "cell_type": "code",
   "execution_count": 40,
   "id": "40fe3c21-7577-4a10-9706-4bdd8e785caf",
   "metadata": {},
   "outputs": [
    {
     "name": "stdout",
     "output_type": "stream",
     "text": [
      "Generated set of random numbers: {71, 7, 43, 51, 84}\n"
     ]
    }
   ],
   "source": [
    "import random\n",
    "num_random_numbers = 5\n",
    "random_number_set = set()\n",
    "for _ in range(num_random_numbers):\n",
    "    random_num = random.randint(1, 100)  \n",
    "    random_number_set.add(random_num)\n",
    "print(\"Generated set of random numbers:\", random_number_set)"
   ]
  },
  {
   "cell_type": "code",
   "execution_count": 41,
   "id": "188f335e-3116-4afe-a097-0e5365315082",
   "metadata": {},
   "outputs": [
    {
     "name": "stdout",
     "output_type": "stream",
     "text": [
      "The set is empty.\n"
     ]
    }
   ],
   "source": [
    "\n",
    "my_set = set()\n",
    "if not my_set:\n",
    "    print(\"The set is empty.\")\n",
    "else:\n",
    "    print(\"The set is not empty.\")"
   ]
  },
  {
   "cell_type": "code",
   "execution_count": 44,
   "id": "a5a34d89-6414-4fbe-a6ed-57b65887082e",
   "metadata": {},
   "outputs": [
    {
     "name": "stdout",
     "output_type": "stream",
     "text": [
      "Initial set: {1, 2, 3, 4, 5}\n",
      "Set after removing 6 : {1, 2, 3, 4, 5}\n"
     ]
    }
   ],
   "source": [
    "my_set = {1, 2, 3, 4, 5}\n",
    "print(\"Initial set:\", my_set)\n",
    "element_to_remove = 6\n",
    "my_set.discard(element_to_remove)\n",
    "print(\"Set after removing\", element_to_remove, \":\", my_set)"
   ]
  },
  {
   "cell_type": "code",
   "execution_count": 45,
   "id": "514cee85-cd8d-45ca-9196-9ca6bb9e5fb5",
   "metadata": {},
   "outputs": [
    {
     "name": "stdout",
     "output_type": "stream",
     "text": [
      "Set 1: {1, 2, 3, 4, 5}\n",
      "Set 2: {4, 5, 6, 7, 8}\n",
      "Is set1 a subset of set2? False\n",
      "Is set2 a subset of set1? False\n",
      "Intersection: {4, 5}\n",
      "Union: {1, 2, 3, 4, 5, 6, 7, 8}\n",
      "Elements in set1 but not in set2: {1, 2, 3}\n",
      "Elements in set2 but not in set1: {8, 6, 7}\n"
     ]
    }
   ],
   "source": [
    "# Step 1: Define two sets\n",
    "set1 = {1, 2, 3, 4, 5}\n",
    "set2 = {4, 5, 6, 7, 8}\n",
    "\n",
    "\n",
    "is_subset = set1.issubset(set2)\n",
    "is_superset = set1.issuperset(set2)\n",
    "intersection = set1.intersection(set2)\n",
    "union = set1.union(set2)\n",
    "difference1 = set1.difference(set2)\n",
    "difference2 = set2.difference(set1)\n",
    "print(\"Set 1:\", set1)\n",
    "print(\"Set 2:\", set2)\n",
    "print(\"Is set1 a subset of set2?\", is_subset)\n",
    "print(\"Is set2 a subset of set1?\", is_superset)\n",
    "print(\"Intersection:\", intersection)\n",
    "print(\"Union:\", union)\n",
    "print(\"Elements in set1 but not in set2:\", difference1)\n",
    "print(\"Elements in set2 but not in set1:\", difference2)"
   ]
  },
  {
   "cell_type": "code",
   "execution_count": 1,
   "id": "7dbb0ce9-c578-42a1-aaf5-7a44312b9d86",
   "metadata": {},
   "outputs": [
    {
     "name": "stdout",
     "output_type": "stream",
     "text": [
      "{'o', 'h', 'e', 'l'}\n"
     ]
    }
   ],
   "source": [
    "input_string = \"hello\"\n",
    "char_set = set(input_string)\n",
    "print(char_set)"
   ]
  },
  {
   "cell_type": "code",
   "execution_count": 2,
   "id": "fe763aff-aee6-4e41-835d-383d589652fb",
   "metadata": {},
   "outputs": [
    {
     "name": "stdout",
     "output_type": "stream",
     "text": [
      "Original String Set: {'12', '56', '79'}\n",
      "Converted Integer Set: {56, 12, 79}\n"
     ]
    }
   ],
   "source": [
    "string_set = {\"12\", \"56\", \"79\"}\n",
    "\n",
    "#Initialize an empty set to store integers\n",
    "integer_set = set()\n",
    "for string in string_set:\n",
    "    integer_value = int(string)\n",
    "    integer_set.add(integer_value)\n",
    "\n",
    "# Print the original string set and the converted integer set\n",
    "print(\"Original String Set:\", string_set)\n",
    "print(\"Converted Integer Set:\", integer_set)"
   ]
  },
  {
   "cell_type": "code",
   "execution_count": 3,
   "id": "dd410550-dfb1-46dc-98bf-cb6c1f048b55",
   "metadata": {},
   "outputs": [
    {
     "name": "stdout",
     "output_type": "stream",
     "text": [
      "Original integers_set: {1, 2, 3}\n",
      "Converted strings_set: {'3', '1', '2'}\n"
     ]
    }
   ],
   "source": [
    "integers_set = {1, 2, 3}\n",
    "strings_set = set()\n",
    "for num in integers_set:\n",
    "    num_str = str(num)\n",
    "    strings_set.add(num_str)\n",
    "print(\"Original integers_set:\", integers_set)\n",
    "print(\"Converted strings_set:\", strings_set)"
   ]
  },
  {
   "cell_type": "code",
   "execution_count": 4,
   "id": "b2379efa-5f69-4b28-8988-33879b777684",
   "metadata": {},
   "outputs": [
    {
     "name": "stdout",
     "output_type": "stream",
     "text": [
      "{1, 2, 3, 4, 5}\n"
     ]
    }
   ],
   "source": [
    "input_tuple = (1, 2, 3, 2, 4, 5, 1)\n",
    "output_set = set(input_tuple)\n",
    "print(output_set)"
   ]
  },
  {
   "cell_type": "code",
   "execution_count": 7,
   "id": "379bea4e-5f6f-431b-a977-078b4a09c454",
   "metadata": {},
   "outputs": [
    {
     "name": "stdout",
     "output_type": "stream",
     "text": [
      "Maximum value: 67\n"
     ]
    }
   ],
   "source": [
    "my_set = {15, 7, 2,6,67}\n",
    "\n",
    "max_value = None\n",
    "for num in my_set:\n",
    "    if max_value is None or num > max_value:\n",
    "        max_value = num  \n",
    "print(\"Maximum value:\", max_value)"
   ]
  },
  {
   "cell_type": "code",
   "execution_count": 8,
   "id": "ac1e27b9-2bd1-4149-af21-3d35251a9818",
   "metadata": {},
   "outputs": [
    {
     "name": "stdout",
     "output_type": "stream",
     "text": [
      "Maximum value: 2\n"
     ]
    }
   ],
   "source": [
    "my_set = {15, 7, 2,6,67}\n",
    "\n",
    "min_value = None\n",
    "for num in my_set:\n",
    "    if min_value is None or num < min_value:\n",
    "        min_value = num  \n",
    "print(\"Maximum value:\", min_value)"
   ]
  },
  {
   "cell_type": "code",
   "execution_count": 9,
   "id": "e251eed2-7813-4bd4-9398-c3569dfb75e2",
   "metadata": {},
   "outputs": [
    {
     "name": "stdout",
     "output_type": "stream",
     "text": [
      "Enter elements for the set (type 'done' to finish):\n"
     ]
    },
    {
     "name": "stdin",
     "output_type": "stream",
     "text": [
      ">  niki yadav DONE\n",
      ">  \n",
      ">  done\n"
     ]
    },
    {
     "name": "stdout",
     "output_type": "stream",
     "text": [
      "Final set: {'', 'niki yadav DONE'}\n"
     ]
    }
   ],
   "source": [
    "user_set = set()\n",
    "print(\"Enter elements for the set (type 'done' to finish):\")\n",
    "while True:\n",
    "    user_input = input(\"> \") \n",
    "    if user_input.lower() == 'done':\n",
    "        break \n",
    "    user_set.add(user_input)\n",
    "print(\"Final set:\", user_set)"
   ]
  },
  {
   "cell_type": "code",
   "execution_count": 10,
   "id": "8e19e73a-4dd5-4dda-ae27-ea8fd367b0c2",
   "metadata": {},
   "outputs": [
    {
     "name": "stdout",
     "output_type": "stream",
     "text": [
      "The intersection of the two sets is not empty.\n"
     ]
    }
   ],
   "source": [
    "set1 = {1, 2, 3, 4, 5}\n",
    "set2 = {4, 5, 6, 7, 8}\n",
    "intersection_result = set1.intersection(set2)\n",
    "if not intersection_result:\n",
    "    print(\"The intersection of the two sets is empty.\")\n",
    "else:\n",
    "    print(\"The intersection of the two sets is not empty.\")"
   ]
  },
  {
   "cell_type": "code",
   "execution_count": 12,
   "id": "023e916c-8cbf-4bb6-a649-931d3d3f0771",
   "metadata": {},
   "outputs": [
    {
     "name": "stdout",
     "output_type": "stream",
     "text": [
      "Set of the first 5 Fibonacci numbers: {0, 1, 2, 3, 5}\n"
     ]
    }
   ],
   "source": [
    "fibonacci_set = set()\n",
    "a, b = 0, 1\n",
    "for _ in range(6):\n",
    "    fibonacci_set.add(a)\n",
    "    a, b = b, a + b\n",
    "print(\"Set of the first 5 Fibonacci numbers:\", fibonacci_set)"
   ]
  },
  {
   "cell_type": "code",
   "execution_count": 13,
   "id": "7b179229-0c34-467a-b27d-5bb20164d323",
   "metadata": {},
   "outputs": [
    {
     "name": "stdout",
     "output_type": "stream",
     "text": [
      "Original List: [2, 4, 6, 8, 4, 10, 6, 12, 14, 8]\n",
      "List with Duplicates Removed: [2, 4, 6, 8, 10, 12, 14]\n"
     ]
    }
   ],
   "source": [
    "original_list = [2, 4, 6, 8, 4, 10, 6, 12, 14, 8]\n",
    "unique_set = set(original_list)\n",
    "unique_list = list(unique_set)\n",
    "print(\"Original List:\", original_list)\n",
    "print(\"List with Duplicates Removed:\", unique_list)"
   ]
  },
  {
   "cell_type": "code",
   "execution_count": 14,
   "id": "646175e9-7020-4c5b-a3ab-6935936d49dc",
   "metadata": {},
   "outputs": [
    {
     "name": "stdout",
     "output_type": "stream",
     "text": [
      "The sets have the same elements.\n"
     ]
    }
   ],
   "source": [
    "def have_same_elements(set1, set2):\n",
    "    # Convert the sets to lists and sort them\n",
    "    sorted_list1 = sorted(list(set1))\n",
    "    sorted_list2 = sorted(list(set2))\n",
    "\n",
    "    # Compare the sorted lists to check if they are equal\n",
    "    return sorted_list1 == sorted_list2\n",
    "\n",
    "# Example sets\n",
    "set1 = {1, 2, 3, 2, 1}\n",
    "set2 = {3, 1, 2}\n",
    "\n",
    "# Check if the sets have the same elements\n",
    "result = have_same_elements(set1, set2)\n",
    "\n",
    "# Print the result\n",
    "if result:\n",
    "    print(\"The sets have the same elements.\")\n",
    "else:\n",
    "    print(\"The sets do not have the same elements.\")"
   ]
  },
  {
   "cell_type": "code",
   "execution_count": 16,
   "id": "67fb8019-fecc-4520-9472-f004576d7df6",
   "metadata": {},
   "outputs": [
    {
     "name": "stdout",
     "output_type": "stream",
     "text": [
      "{32, 1, 2, 64, 4, 128, 256, 512, 8, 16}\n"
     ]
    }
   ],
   "source": [
    "def generate_powers_of_2(n):\n",
    "    powers_of_2 = set()\n",
    "    for i in range(n):\n",
    "        power = 2 ** i\n",
    "        powers_of_2.add(power)\n",
    "    return powers_of_2\n",
    "n = 10\n",
    "powers_set = generate_powers_of_2(n)\n",
    "\n",
    "# Print the resulting set\n",
    "print(powers_set)"
   ]
  },
  {
   "cell_type": "code",
   "execution_count": 17,
   "id": "105d19a8-1f45-4fa9-8556-38500fcea117",
   "metadata": {},
   "outputs": [
    {
     "name": "stdout",
     "output_type": "stream",
     "text": [
      "Common elements: [7, 9, 12]\n"
     ]
    }
   ],
   "source": [
    "my_set = {3, 7, 9, 12, 15}\n",
    "my_list = [7, 12, 5, 9]\n",
    "list_to_set = set(my_list)\n",
    "common_elements = []\n",
    "for element in my_set:\n",
    "    if element in list_to_set:\n",
    "        common_elements.append(element)\n",
    "        \n",
    "print(\"Common elements:\", common_elements)"
   ]
  },
  {
   "cell_type": "code",
   "execution_count": 18,
   "id": "16a9f398-5328-441b-992a-9c5d44bec7cb",
   "metadata": {},
   "outputs": [
    {
     "name": "stdin",
     "output_type": "stream",
     "text": [
      "Enter the value of n:  8\n"
     ]
    },
    {
     "name": "stdout",
     "output_type": "stream",
     "text": [
      "The set of the first 8 triangular numbers is: {1, 3, 36, 6, 10, 15, 21, 28}\n"
     ]
    }
   ],
   "source": [
    "def generate_triangular_numbers(n):\n",
    "    triangular_numbers = set()  \n",
    "    for i in range(1, n + 1):\n",
    "        triangular_number = i * (i + 1) // 2  \n",
    "        triangular_numbers.add(triangular_number)  \n",
    "    return triangular_numbers\n",
    "n = int(input(\"Enter the value of n: \"))\n",
    "triangular_set = generate_triangular_numbers(n)\n",
    "print(f\"The set of the first {n} triangular numbers is:\", triangular_set)"
   ]
  },
  {
   "cell_type": "code",
   "execution_count": 19,
   "id": "c8fca9c3-8707-4ac6-82f3-1c16b9498e68",
   "metadata": {},
   "outputs": [
    {
     "name": "stdout",
     "output_type": "stream",
     "text": [
      "set2 is a subset of set1\n"
     ]
    }
   ],
   "source": [
    "set1 = {1, 2, 3, 4, 5}\n",
    "set2 = {3, 4}\n",
    "is_subset = set2.issubset(set1)\n",
    "if is_subset:\n",
    "    print(\"set2 is a subset of set1\")\n",
    "else:\n",
    "    print(\"set2 is not a subset of set1\")"
   ]
  },
  {
   "cell_type": "code",
   "execution_count": 22,
   "id": "fc530eb4-92b3-4842-baab-1c533bf2ddbb",
   "metadata": {},
   "outputs": [
    {
     "name": "stdout",
     "output_type": "stream",
     "text": [
      "{0, 1}\n"
     ]
    }
   ],
   "source": [
    "def create_alternating_set(n):\n",
    "    alternating_set = set()\n",
    "    for i in range(n):\n",
    "        if i % 2 == 0:\n",
    "            alternating_set.add(1) \n",
    "        else:\n",
    "            alternating_set.add(0) \n",
    "\n",
    "    return alternating_set\n",
    "length_n = 14\n",
    "result = create_alternating_set(length_n)\n",
    "print(result)"
   ]
  },
  {
   "cell_type": "code",
   "execution_count": 21,
   "id": "a21bf60a-dfc2-41b3-ab51-280fe8772cf7",
   "metadata": {},
   "outputs": [
    {
     "name": "stdout",
     "output_type": "stream",
     "text": [
      "Merged Set: {1, 2, 3, 4, 5, 6, 7}\n"
     ]
    }
   ],
   "source": [
    "set1 = {1, 2, 3}\n",
    "set2 = {3, 4, 5}\n",
    "set3 = {5, 6, 7}\n",
    "\n",
    "merged_set = set1.union(set2, set3)\n",
    "print(\"Merged Set:\", merged_set)"
   ]
  },
  {
   "cell_type": "code",
   "execution_count": null,
   "id": "10d7dc12-b5e9-4ff1-82cb-bbc3f45b3a48",
   "metadata": {},
   "outputs": [],
   "source": []
  }
 ],
 "metadata": {
  "kernelspec": {
   "display_name": "Python 3 (ipykernel)",
   "language": "python",
   "name": "python3"
  },
  "language_info": {
   "codemirror_mode": {
    "name": "ipython",
    "version": 3
   },
   "file_extension": ".py",
   "mimetype": "text/x-python",
   "name": "python",
   "nbconvert_exporter": "python",
   "pygments_lexer": "ipython3",
   "version": "3.10.8"
  }
 },
 "nbformat": 4,
 "nbformat_minor": 5
}
